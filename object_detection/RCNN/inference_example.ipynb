{
 "cells": [
  {
   "cell_type": "code",
   "execution_count": 3,
   "metadata": {
    "ExecuteTime": {
     "end_time": "2019-12-05T00:19:18.519484Z",
     "start_time": "2019-12-05T00:19:17.126161Z"
    }
   },
   "outputs": [
    {
     "name": "stderr",
     "output_type": "stream",
     "text": [
      "Using TensorFlow backend.\n"
     ]
    }
   ],
   "source": [
    "import cv2\n",
    "import matplotlib.pyplot as plt\n",
    "import numpy as np\n",
    "import os\n",
    "import random\n",
    "import pandas as pd\n",
    "\n",
    "from matplotlib import patches\n",
    "from keras.models import model_from_json\n",
    "\n",
    "%matplotlib inline"
   ]
  },
  {
   "cell_type": "markdown",
   "metadata": {},
   "source": [
    "### 0. Implement Required Method"
   ]
  },
  {
   "cell_type": "code",
   "execution_count": 4,
   "metadata": {
    "ExecuteTime": {
     "end_time": "2019-12-05T00:19:18.613783Z",
     "start_time": "2019-12-05T00:19:18.526992Z"
    }
   },
   "outputs": [],
   "source": [
    "# Compute IOU(Measure TP, FP)\n",
    "def ComputeIOU(gt_bbox, p):\n",
    "    x1 = np.maximum(gt_bbox[0], p[:, 0])\n",
    "    y1 = np.maximum(gt_bbox[1], p[:, 1])\n",
    "    x2 = np.minimum(gt_bbox[2], p[:, 2])\n",
    "    y2 = np.minimum(gt_bbox[3], p[:, 3])\n",
    "    \n",
    "    intersection = np.maximum(x2 - x1, 0) * np.maximum(y2 - y1, 0)\n",
    "    gt_area = (gt_bbox[2] - gt_bbox[0]) * (gt_bbox[3] - gt_bbox[1])\n",
    "    propoesed_area = (p[:, 2] - p[:, 0]) * (p[:, 3] - p[:, 1])\n",
    "    union = gt_area + propoesed_area[:] - intersection[:]\n",
    "    \n",
    "    iou = intersection/union\n",
    "    \n",
    "    return iou\n",
    "\n",
    "# Bounding Box Normalization\n",
    "def NonMaximumSuppression(boxes):\n",
    "    NMS_TH = 0.5\n",
    "    pick = []\n",
    "\n",
    "    # Sorted by Score(Confidence)\n",
    "    idx = np.argsort(boxes[:, 4])\n",
    "\n",
    "    while len(idx) > 0:\n",
    "        last = len(idx) - 1\n",
    "        i = idx[last]\n",
    "        pick.append(i)\n",
    "        iou = ComputeIOU(boxes[i], boxes[idx[:last]])\n",
    "        idx = np.delete(idx, np.concatenate(([last], np.where(iou > NMS_TH)[0])))\n",
    "\n",
    "    return boxes[pick]"
   ]
  },
  {
   "cell_type": "markdown",
   "metadata": {},
   "source": [
    "### 1. Load Classification Trained Model"
   ]
  },
  {
   "cell_type": "code",
   "execution_count": 5,
   "metadata": {
    "ExecuteTime": {
     "end_time": "2019-12-05T00:19:31.017043Z",
     "start_time": "2019-12-05T00:19:18.621229Z"
    }
   },
   "outputs": [
    {
     "name": "stdout",
     "output_type": "stream",
     "text": [
      "WARNING:tensorflow:From /home/jhjung/tensorflow_1.14.0_env/lib/python3.7/site-packages/keras/backend/tensorflow_backend.py:4070: The name tf.nn.max_pool is deprecated. Please use tf.nn.max_pool2d instead.\n",
      "\n"
     ]
    },
    {
     "ename": "ResourceExhaustedError",
     "evalue": "OOM when allocating tensor with shape[25088,4096] and type float on /job:localhost/replica:0/task:0/device:GPU:0 by allocator GPU_0_bfc\n\t [[node fc1/random_uniform/RandomUniform (defined at /home/jhjung/tensorflow_1.14.0_env/lib/python3.7/site-packages/keras/backend/tensorflow_backend.py:4357) ]]\nHint: If you want to see a list of allocated tensors when OOM happens, add report_tensor_allocations_upon_oom to RunOptions for current allocation info.\n\n\nOriginal stack trace for 'fc1/random_uniform/RandomUniform':\n  File \"/usr/lib/python3.7/runpy.py\", line 193, in _run_module_as_main\n    \"__main__\", mod_spec)\n  File \"/usr/lib/python3.7/runpy.py\", line 85, in _run_code\n    exec(code, run_globals)\n  File \"/home/jhjung/tensorflow_1.14.0_env/lib/python3.7/site-packages/ipykernel_launcher.py\", line 16, in <module>\n    app.launch_new_instance()\n  File \"/home/jhjung/tensorflow_1.14.0_env/lib/python3.7/site-packages/traitlets/config/application.py\", line 664, in launch_instance\n    app.start()\n  File \"/home/jhjung/tensorflow_1.14.0_env/lib/python3.7/site-packages/ipykernel/kernelapp.py\", line 563, in start\n    self.io_loop.start()\n  File \"/home/jhjung/tensorflow_1.14.0_env/lib/python3.7/site-packages/tornado/platform/asyncio.py\", line 148, in start\n    self.asyncio_loop.run_forever()\n  File \"/usr/lib/python3.7/asyncio/base_events.py\", line 534, in run_forever\n    self._run_once()\n  File \"/usr/lib/python3.7/asyncio/base_events.py\", line 1771, in _run_once\n    handle._run()\n  File \"/usr/lib/python3.7/asyncio/events.py\", line 88, in _run\n    self._context.run(self._callback, *self._args)\n  File \"/home/jhjung/tensorflow_1.14.0_env/lib/python3.7/site-packages/tornado/ioloop.py\", line 690, in <lambda>\n    lambda f: self._run_callback(functools.partial(callback, future))\n  File \"/home/jhjung/tensorflow_1.14.0_env/lib/python3.7/site-packages/tornado/ioloop.py\", line 743, in _run_callback\n    ret = callback()\n  File \"/home/jhjung/tensorflow_1.14.0_env/lib/python3.7/site-packages/tornado/gen.py\", line 787, in inner\n    self.run()\n  File \"/home/jhjung/tensorflow_1.14.0_env/lib/python3.7/site-packages/tornado/gen.py\", line 748, in run\n    yielded = self.gen.send(value)\n  File \"/home/jhjung/tensorflow_1.14.0_env/lib/python3.7/site-packages/ipykernel/kernelbase.py\", line 378, in dispatch_queue\n    yield self.process_one()\n  File \"/home/jhjung/tensorflow_1.14.0_env/lib/python3.7/site-packages/tornado/gen.py\", line 225, in wrapper\n    runner = Runner(result, future, yielded)\n  File \"/home/jhjung/tensorflow_1.14.0_env/lib/python3.7/site-packages/tornado/gen.py\", line 714, in __init__\n    self.run()\n  File \"/home/jhjung/tensorflow_1.14.0_env/lib/python3.7/site-packages/tornado/gen.py\", line 748, in run\n    yielded = self.gen.send(value)\n  File \"/home/jhjung/tensorflow_1.14.0_env/lib/python3.7/site-packages/ipykernel/kernelbase.py\", line 365, in process_one\n    yield gen.maybe_future(dispatch(*args))\n  File \"/home/jhjung/tensorflow_1.14.0_env/lib/python3.7/site-packages/tornado/gen.py\", line 209, in wrapper\n    yielded = next(result)\n  File \"/home/jhjung/tensorflow_1.14.0_env/lib/python3.7/site-packages/ipykernel/kernelbase.py\", line 272, in dispatch_shell\n    yield gen.maybe_future(handler(stream, idents, msg))\n  File \"/home/jhjung/tensorflow_1.14.0_env/lib/python3.7/site-packages/tornado/gen.py\", line 209, in wrapper\n    yielded = next(result)\n  File \"/home/jhjung/tensorflow_1.14.0_env/lib/python3.7/site-packages/ipykernel/kernelbase.py\", line 542, in execute_request\n    user_expressions, allow_stdin,\n  File \"/home/jhjung/tensorflow_1.14.0_env/lib/python3.7/site-packages/tornado/gen.py\", line 209, in wrapper\n    yielded = next(result)\n  File \"/home/jhjung/tensorflow_1.14.0_env/lib/python3.7/site-packages/ipykernel/ipkernel.py\", line 294, in do_execute\n    res = shell.run_cell(code, store_history=store_history, silent=silent)\n  File \"/home/jhjung/tensorflow_1.14.0_env/lib/python3.7/site-packages/ipykernel/zmqshell.py\", line 536, in run_cell\n    return super(ZMQInteractiveShell, self).run_cell(*args, **kwargs)\n  File \"/home/jhjung/tensorflow_1.14.0_env/lib/python3.7/site-packages/IPython/core/interactiveshell.py\", line 2855, in run_cell\n    raw_cell, store_history, silent, shell_futures)\n  File \"/home/jhjung/tensorflow_1.14.0_env/lib/python3.7/site-packages/IPython/core/interactiveshell.py\", line 2881, in _run_cell\n    return runner(coro)\n  File \"/home/jhjung/tensorflow_1.14.0_env/lib/python3.7/site-packages/IPython/core/async_helpers.py\", line 68, in _pseudo_sync_runner\n    coro.send(None)\n  File \"/home/jhjung/tensorflow_1.14.0_env/lib/python3.7/site-packages/IPython/core/interactiveshell.py\", line 3058, in run_cell_async\n    interactivity=interactivity, compiler=compiler, result=result)\n  File \"/home/jhjung/tensorflow_1.14.0_env/lib/python3.7/site-packages/IPython/core/interactiveshell.py\", line 3249, in run_ast_nodes\n    if (await self.run_code(code, result,  async_=asy)):\n  File \"/home/jhjung/tensorflow_1.14.0_env/lib/python3.7/site-packages/IPython/core/interactiveshell.py\", line 3326, in run_code\n    exec(code_obj, self.user_global_ns, self.user_ns)\n  File \"<ipython-input-5-d7a3e1f44916>\", line 10, in <module>\n    model = model_from_json(loaded_model_json)\n  File \"/home/jhjung/tensorflow_1.14.0_env/lib/python3.7/site-packages/keras/engine/saving.py\", line 664, in model_from_json\n    return deserialize(config, custom_objects=custom_objects)\n  File \"/home/jhjung/tensorflow_1.14.0_env/lib/python3.7/site-packages/keras/layers/__init__.py\", line 168, in deserialize\n    printable_module_name='layer')\n  File \"/home/jhjung/tensorflow_1.14.0_env/lib/python3.7/site-packages/keras/utils/generic_utils.py\", line 147, in deserialize_keras_object\n    list(custom_objects.items())))\n  File \"/home/jhjung/tensorflow_1.14.0_env/lib/python3.7/site-packages/keras/engine/network.py\", line 1075, in from_config\n    process_node(layer, node_data)\n  File \"/home/jhjung/tensorflow_1.14.0_env/lib/python3.7/site-packages/keras/engine/network.py\", line 1025, in process_node\n    layer(unpack_singleton(input_tensors), **kwargs)\n  File \"/home/jhjung/tensorflow_1.14.0_env/lib/python3.7/site-packages/keras/engine/base_layer.py\", line 463, in __call__\n    self.build(unpack_singleton(input_shapes))\n  File \"/home/jhjung/tensorflow_1.14.0_env/lib/python3.7/site-packages/keras/layers/core.py\", line 895, in build\n    constraint=self.kernel_constraint)\n  File \"/home/jhjung/tensorflow_1.14.0_env/lib/python3.7/site-packages/keras/engine/base_layer.py\", line 279, in add_weight\n    weight = K.variable(initializer(shape, dtype=dtype),\n  File \"/home/jhjung/tensorflow_1.14.0_env/lib/python3.7/site-packages/keras/initializers.py\", line 227, in __call__\n    dtype=dtype, seed=self.seed)\n  File \"/home/jhjung/tensorflow_1.14.0_env/lib/python3.7/site-packages/keras/backend/tensorflow_backend.py\", line 4357, in random_uniform\n    shape, minval=minval, maxval=maxval, dtype=dtype, seed=seed)\n  File \"/home/jhjung/tensorflow_1.14.0_env/lib/python3.7/site-packages/tensorflow/python/keras/backend.py\", line 5253, in random_uniform\n    shape, minval=minval, maxval=maxval, dtype=dtype, seed=seed)\n  File \"/home/jhjung/tensorflow_1.14.0_env/lib/python3.7/site-packages/tensorflow/python/ops/random_ops.py\", line 247, in random_uniform\n    rnd = gen_random_ops.random_uniform(shape, dtype, seed=seed1, seed2=seed2)\n  File \"/home/jhjung/tensorflow_1.14.0_env/lib/python3.7/site-packages/tensorflow/python/ops/gen_random_ops.py\", line 820, in random_uniform\n    name=name)\n  File \"/home/jhjung/tensorflow_1.14.0_env/lib/python3.7/site-packages/tensorflow/python/framework/op_def_library.py\", line 788, in _apply_op_helper\n    op_def=op_def)\n  File \"/home/jhjung/tensorflow_1.14.0_env/lib/python3.7/site-packages/tensorflow/python/util/deprecation.py\", line 507, in new_func\n    return func(*args, **kwargs)\n  File \"/home/jhjung/tensorflow_1.14.0_env/lib/python3.7/site-packages/tensorflow/python/framework/ops.py\", line 3616, in create_op\n    op_def=op_def)\n  File \"/home/jhjung/tensorflow_1.14.0_env/lib/python3.7/site-packages/tensorflow/python/framework/ops.py\", line 2005, in __init__\n    self._traceback = tf_stack.extract_stack()\n",
     "output_type": "error",
     "traceback": [
      "\u001b[0;31m---------------------------------------------------------------------------\u001b[0m",
      "\u001b[0;31mResourceExhaustedError\u001b[0m                    Traceback (most recent call last)",
      "\u001b[0;32m~/tensorflow_1.14.0_env/lib/python3.7/site-packages/tensorflow/python/client/session.py\u001b[0m in \u001b[0;36m_do_call\u001b[0;34m(self, fn, *args)\u001b[0m\n\u001b[1;32m   1355\u001b[0m     \u001b[0;32mtry\u001b[0m\u001b[0;34m:\u001b[0m\u001b[0;34m\u001b[0m\u001b[0;34m\u001b[0m\u001b[0m\n\u001b[0;32m-> 1356\u001b[0;31m       \u001b[0;32mreturn\u001b[0m \u001b[0mfn\u001b[0m\u001b[0;34m(\u001b[0m\u001b[0;34m*\u001b[0m\u001b[0margs\u001b[0m\u001b[0;34m)\u001b[0m\u001b[0;34m\u001b[0m\u001b[0;34m\u001b[0m\u001b[0m\n\u001b[0m\u001b[1;32m   1357\u001b[0m     \u001b[0;32mexcept\u001b[0m \u001b[0merrors\u001b[0m\u001b[0;34m.\u001b[0m\u001b[0mOpError\u001b[0m \u001b[0;32mas\u001b[0m \u001b[0me\u001b[0m\u001b[0;34m:\u001b[0m\u001b[0;34m\u001b[0m\u001b[0;34m\u001b[0m\u001b[0m\n",
      "\u001b[0;32m~/tensorflow_1.14.0_env/lib/python3.7/site-packages/tensorflow/python/client/session.py\u001b[0m in \u001b[0;36m_run_fn\u001b[0;34m(feed_dict, fetch_list, target_list, options, run_metadata)\u001b[0m\n\u001b[1;32m   1340\u001b[0m       return self._call_tf_sessionrun(\n\u001b[0;32m-> 1341\u001b[0;31m           options, feed_dict, fetch_list, target_list, run_metadata)\n\u001b[0m\u001b[1;32m   1342\u001b[0m \u001b[0;34m\u001b[0m\u001b[0m\n",
      "\u001b[0;32m~/tensorflow_1.14.0_env/lib/python3.7/site-packages/tensorflow/python/client/session.py\u001b[0m in \u001b[0;36m_call_tf_sessionrun\u001b[0;34m(self, options, feed_dict, fetch_list, target_list, run_metadata)\u001b[0m\n\u001b[1;32m   1428\u001b[0m         \u001b[0mself\u001b[0m\u001b[0;34m.\u001b[0m\u001b[0m_session\u001b[0m\u001b[0;34m,\u001b[0m \u001b[0moptions\u001b[0m\u001b[0;34m,\u001b[0m \u001b[0mfeed_dict\u001b[0m\u001b[0;34m,\u001b[0m \u001b[0mfetch_list\u001b[0m\u001b[0;34m,\u001b[0m \u001b[0mtarget_list\u001b[0m\u001b[0;34m,\u001b[0m\u001b[0;34m\u001b[0m\u001b[0;34m\u001b[0m\u001b[0m\n\u001b[0;32m-> 1429\u001b[0;31m         run_metadata)\n\u001b[0m\u001b[1;32m   1430\u001b[0m \u001b[0;34m\u001b[0m\u001b[0m\n",
      "\u001b[0;31mResourceExhaustedError\u001b[0m: OOM when allocating tensor with shape[25088,4096] and type float on /job:localhost/replica:0/task:0/device:GPU:0 by allocator GPU_0_bfc\n\t [[{{node fc1/random_uniform/RandomUniform}}]]\nHint: If you want to see a list of allocated tensors when OOM happens, add report_tensor_allocations_upon_oom to RunOptions for current allocation info.\n",
      "\nDuring handling of the above exception, another exception occurred:\n",
      "\u001b[0;31mResourceExhaustedError\u001b[0m                    Traceback (most recent call last)",
      "\u001b[0;32m<ipython-input-5-d7a3e1f44916>\u001b[0m in \u001b[0;36m<module>\u001b[0;34m\u001b[0m\n\u001b[1;32m     11\u001b[0m \u001b[0;34m\u001b[0m\u001b[0m\n\u001b[1;32m     12\u001b[0m \u001b[0;31m# 1-2. Trained weight load and Copy to model\u001b[0m\u001b[0;34m\u001b[0m\u001b[0;34m\u001b[0m\u001b[0;34m\u001b[0m\u001b[0m\n\u001b[0;32m---> 13\u001b[0;31m \u001b[0mmodel\u001b[0m\u001b[0;34m.\u001b[0m\u001b[0mload_weights\u001b[0m\u001b[0;34m(\u001b[0m\u001b[0;34m\"{}/vgg16-airplane_07_0.1285.h5\"\u001b[0m\u001b[0;34m.\u001b[0m\u001b[0mformat\u001b[0m\u001b[0;34m(\u001b[0m\u001b[0mJOB_DIR\u001b[0m\u001b[0;34m)\u001b[0m\u001b[0;34m)\u001b[0m\u001b[0;34m\u001b[0m\u001b[0;34m\u001b[0m\u001b[0m\n\u001b[0m",
      "\u001b[0;32m~/tensorflow_1.14.0_env/lib/python3.7/site-packages/keras/engine/saving.py\u001b[0m in \u001b[0;36mload_wrapper\u001b[0;34m(*args, **kwargs)\u001b[0m\n\u001b[1;32m    490\u001b[0m                 \u001b[0mos\u001b[0m\u001b[0;34m.\u001b[0m\u001b[0mremove\u001b[0m\u001b[0;34m(\u001b[0m\u001b[0mtmp_filepath\u001b[0m\u001b[0;34m)\u001b[0m\u001b[0;34m\u001b[0m\u001b[0;34m\u001b[0m\u001b[0m\n\u001b[1;32m    491\u001b[0m             \u001b[0;32mreturn\u001b[0m \u001b[0mres\u001b[0m\u001b[0;34m\u001b[0m\u001b[0;34m\u001b[0m\u001b[0m\n\u001b[0;32m--> 492\u001b[0;31m         \u001b[0;32mreturn\u001b[0m \u001b[0mload_function\u001b[0m\u001b[0;34m(\u001b[0m\u001b[0;34m*\u001b[0m\u001b[0margs\u001b[0m\u001b[0;34m,\u001b[0m \u001b[0;34m**\u001b[0m\u001b[0mkwargs\u001b[0m\u001b[0;34m)\u001b[0m\u001b[0;34m\u001b[0m\u001b[0;34m\u001b[0m\u001b[0m\n\u001b[0m\u001b[1;32m    493\u001b[0m \u001b[0;34m\u001b[0m\u001b[0m\n\u001b[1;32m    494\u001b[0m     \u001b[0;32mreturn\u001b[0m \u001b[0mload_wrapper\u001b[0m\u001b[0;34m\u001b[0m\u001b[0;34m\u001b[0m\u001b[0m\n",
      "\u001b[0;32m~/tensorflow_1.14.0_env/lib/python3.7/site-packages/keras/engine/network.py\u001b[0m in \u001b[0;36mload_weights\u001b[0;34m(self, filepath, by_name, skip_mismatch, reshape)\u001b[0m\n\u001b[1;32m   1228\u001b[0m             \u001b[0;32melse\u001b[0m\u001b[0;34m:\u001b[0m\u001b[0;34m\u001b[0m\u001b[0;34m\u001b[0m\u001b[0m\n\u001b[1;32m   1229\u001b[0m                 saving.load_weights_from_hdf5_group(\n\u001b[0;32m-> 1230\u001b[0;31m                     f, self.layers, reshape=reshape)\n\u001b[0m\u001b[1;32m   1231\u001b[0m             \u001b[0;32mif\u001b[0m \u001b[0mhasattr\u001b[0m\u001b[0;34m(\u001b[0m\u001b[0mf\u001b[0m\u001b[0;34m,\u001b[0m \u001b[0;34m'close'\u001b[0m\u001b[0;34m)\u001b[0m\u001b[0;34m:\u001b[0m\u001b[0;34m\u001b[0m\u001b[0;34m\u001b[0m\u001b[0m\n\u001b[1;32m   1232\u001b[0m                 \u001b[0mf\u001b[0m\u001b[0;34m.\u001b[0m\u001b[0mclose\u001b[0m\u001b[0;34m(\u001b[0m\u001b[0;34m)\u001b[0m\u001b[0;34m\u001b[0m\u001b[0;34m\u001b[0m\u001b[0m\n",
      "\u001b[0;32m~/tensorflow_1.14.0_env/lib/python3.7/site-packages/keras/engine/saving.py\u001b[0m in \u001b[0;36mload_weights_from_hdf5_group\u001b[0;34m(f, layers, reshape)\u001b[0m\n\u001b[1;32m   1235\u001b[0m                              ' elements.')\n\u001b[1;32m   1236\u001b[0m         \u001b[0mweight_value_tuples\u001b[0m \u001b[0;34m+=\u001b[0m \u001b[0mzip\u001b[0m\u001b[0;34m(\u001b[0m\u001b[0msymbolic_weights\u001b[0m\u001b[0;34m,\u001b[0m \u001b[0mweight_values\u001b[0m\u001b[0;34m)\u001b[0m\u001b[0;34m\u001b[0m\u001b[0;34m\u001b[0m\u001b[0m\n\u001b[0;32m-> 1237\u001b[0;31m     \u001b[0mK\u001b[0m\u001b[0;34m.\u001b[0m\u001b[0mbatch_set_value\u001b[0m\u001b[0;34m(\u001b[0m\u001b[0mweight_value_tuples\u001b[0m\u001b[0;34m)\u001b[0m\u001b[0;34m\u001b[0m\u001b[0;34m\u001b[0m\u001b[0m\n\u001b[0m\u001b[1;32m   1238\u001b[0m \u001b[0;34m\u001b[0m\u001b[0m\n\u001b[1;32m   1239\u001b[0m \u001b[0;34m\u001b[0m\u001b[0m\n",
      "\u001b[0;32m~/tensorflow_1.14.0_env/lib/python3.7/site-packages/keras/backend/tensorflow_backend.py\u001b[0m in \u001b[0;36mbatch_set_value\u001b[0;34m(tuples)\u001b[0m\n\u001b[1;32m   2958\u001b[0m             \u001b[0;31m`\u001b[0m\u001b[0mvalue\u001b[0m\u001b[0;31m`\u001b[0m \u001b[0mshould\u001b[0m \u001b[0mbe\u001b[0m \u001b[0ma\u001b[0m \u001b[0mNumpy\u001b[0m \u001b[0marray\u001b[0m\u001b[0;34m.\u001b[0m\u001b[0;34m\u001b[0m\u001b[0;34m\u001b[0m\u001b[0m\n\u001b[1;32m   2959\u001b[0m     \"\"\"\n\u001b[0;32m-> 2960\u001b[0;31m     \u001b[0mtf_keras_backend\u001b[0m\u001b[0;34m.\u001b[0m\u001b[0mbatch_set_value\u001b[0m\u001b[0;34m(\u001b[0m\u001b[0mtuples\u001b[0m\u001b[0;34m)\u001b[0m\u001b[0;34m\u001b[0m\u001b[0;34m\u001b[0m\u001b[0m\n\u001b[0m\u001b[1;32m   2961\u001b[0m \u001b[0;34m\u001b[0m\u001b[0m\n\u001b[1;32m   2962\u001b[0m \u001b[0;34m\u001b[0m\u001b[0m\n",
      "\u001b[0;32m~/tensorflow_1.14.0_env/lib/python3.7/site-packages/tensorflow/python/keras/backend.py\u001b[0m in \u001b[0;36mbatch_set_value\u001b[0;34m(tuples)\u001b[0m\n\u001b[1;32m   3069\u001b[0m           \u001b[0massign_ops\u001b[0m\u001b[0;34m.\u001b[0m\u001b[0mappend\u001b[0m\u001b[0;34m(\u001b[0m\u001b[0massign_op\u001b[0m\u001b[0;34m)\u001b[0m\u001b[0;34m\u001b[0m\u001b[0;34m\u001b[0m\u001b[0m\n\u001b[1;32m   3070\u001b[0m           \u001b[0mfeed_dict\u001b[0m\u001b[0;34m[\u001b[0m\u001b[0massign_placeholder\u001b[0m\u001b[0;34m]\u001b[0m \u001b[0;34m=\u001b[0m \u001b[0mvalue\u001b[0m\u001b[0;34m\u001b[0m\u001b[0;34m\u001b[0m\u001b[0m\n\u001b[0;32m-> 3071\u001b[0;31m         \u001b[0mget_session\u001b[0m\u001b[0;34m(\u001b[0m\u001b[0;34m)\u001b[0m\u001b[0;34m.\u001b[0m\u001b[0mrun\u001b[0m\u001b[0;34m(\u001b[0m\u001b[0massign_ops\u001b[0m\u001b[0;34m,\u001b[0m \u001b[0mfeed_dict\u001b[0m\u001b[0;34m=\u001b[0m\u001b[0mfeed_dict\u001b[0m\u001b[0;34m)\u001b[0m\u001b[0;34m\u001b[0m\u001b[0;34m\u001b[0m\u001b[0m\n\u001b[0m\u001b[1;32m   3072\u001b[0m \u001b[0;34m\u001b[0m\u001b[0m\n\u001b[1;32m   3073\u001b[0m \u001b[0;34m\u001b[0m\u001b[0m\n",
      "\u001b[0;32m~/tensorflow_1.14.0_env/lib/python3.7/site-packages/tensorflow/python/keras/backend.py\u001b[0m in \u001b[0;36mget_session\u001b[0;34m(op_input_list)\u001b[0m\n\u001b[1;32m    460\u001b[0m   \u001b[0;32mif\u001b[0m \u001b[0;32mnot\u001b[0m \u001b[0m_MANUAL_VAR_INIT\u001b[0m\u001b[0;34m:\u001b[0m\u001b[0;34m\u001b[0m\u001b[0;34m\u001b[0m\u001b[0m\n\u001b[1;32m    461\u001b[0m     \u001b[0;32mwith\u001b[0m \u001b[0msession\u001b[0m\u001b[0;34m.\u001b[0m\u001b[0mgraph\u001b[0m\u001b[0;34m.\u001b[0m\u001b[0mas_default\u001b[0m\u001b[0;34m(\u001b[0m\u001b[0;34m)\u001b[0m\u001b[0;34m:\u001b[0m\u001b[0;34m\u001b[0m\u001b[0;34m\u001b[0m\u001b[0m\n\u001b[0;32m--> 462\u001b[0;31m       \u001b[0m_initialize_variables\u001b[0m\u001b[0;34m(\u001b[0m\u001b[0msession\u001b[0m\u001b[0;34m)\u001b[0m\u001b[0;34m\u001b[0m\u001b[0;34m\u001b[0m\u001b[0m\n\u001b[0m\u001b[1;32m    463\u001b[0m   \u001b[0;32mreturn\u001b[0m \u001b[0msession\u001b[0m\u001b[0;34m\u001b[0m\u001b[0;34m\u001b[0m\u001b[0m\n\u001b[1;32m    464\u001b[0m \u001b[0;34m\u001b[0m\u001b[0m\n",
      "\u001b[0;32m~/tensorflow_1.14.0_env/lib/python3.7/site-packages/tensorflow/python/keras/backend.py\u001b[0m in \u001b[0;36m_initialize_variables\u001b[0;34m(session)\u001b[0m\n\u001b[1;32m    884\u001b[0m       \u001b[0mv\u001b[0m\u001b[0;34m.\u001b[0m\u001b[0m_keras_initialized\u001b[0m \u001b[0;34m=\u001b[0m \u001b[0;32mTrue\u001b[0m\u001b[0;34m\u001b[0m\u001b[0;34m\u001b[0m\u001b[0m\n\u001b[1;32m    885\u001b[0m     \u001b[0;32mif\u001b[0m \u001b[0muninitialized_vars\u001b[0m\u001b[0;34m:\u001b[0m\u001b[0;34m\u001b[0m\u001b[0;34m\u001b[0m\u001b[0m\n\u001b[0;32m--> 886\u001b[0;31m       \u001b[0msession\u001b[0m\u001b[0;34m.\u001b[0m\u001b[0mrun\u001b[0m\u001b[0;34m(\u001b[0m\u001b[0mvariables_module\u001b[0m\u001b[0;34m.\u001b[0m\u001b[0mvariables_initializer\u001b[0m\u001b[0;34m(\u001b[0m\u001b[0muninitialized_vars\u001b[0m\u001b[0;34m)\u001b[0m\u001b[0;34m)\u001b[0m\u001b[0;34m\u001b[0m\u001b[0;34m\u001b[0m\u001b[0m\n\u001b[0m\u001b[1;32m    887\u001b[0m \u001b[0;34m\u001b[0m\u001b[0m\n\u001b[1;32m    888\u001b[0m \u001b[0;34m\u001b[0m\u001b[0m\n",
      "\u001b[0;32m~/tensorflow_1.14.0_env/lib/python3.7/site-packages/tensorflow/python/client/session.py\u001b[0m in \u001b[0;36mrun\u001b[0;34m(self, fetches, feed_dict, options, run_metadata)\u001b[0m\n\u001b[1;32m    948\u001b[0m     \u001b[0;32mtry\u001b[0m\u001b[0;34m:\u001b[0m\u001b[0;34m\u001b[0m\u001b[0;34m\u001b[0m\u001b[0m\n\u001b[1;32m    949\u001b[0m       result = self._run(None, fetches, feed_dict, options_ptr,\n\u001b[0;32m--> 950\u001b[0;31m                          run_metadata_ptr)\n\u001b[0m\u001b[1;32m    951\u001b[0m       \u001b[0;32mif\u001b[0m \u001b[0mrun_metadata\u001b[0m\u001b[0;34m:\u001b[0m\u001b[0;34m\u001b[0m\u001b[0;34m\u001b[0m\u001b[0m\n\u001b[1;32m    952\u001b[0m         \u001b[0mproto_data\u001b[0m \u001b[0;34m=\u001b[0m \u001b[0mtf_session\u001b[0m\u001b[0;34m.\u001b[0m\u001b[0mTF_GetBuffer\u001b[0m\u001b[0;34m(\u001b[0m\u001b[0mrun_metadata_ptr\u001b[0m\u001b[0;34m)\u001b[0m\u001b[0;34m\u001b[0m\u001b[0;34m\u001b[0m\u001b[0m\n",
      "\u001b[0;32m~/tensorflow_1.14.0_env/lib/python3.7/site-packages/tensorflow/python/client/session.py\u001b[0m in \u001b[0;36m_run\u001b[0;34m(self, handle, fetches, feed_dict, options, run_metadata)\u001b[0m\n\u001b[1;32m   1171\u001b[0m     \u001b[0;32mif\u001b[0m \u001b[0mfinal_fetches\u001b[0m \u001b[0;32mor\u001b[0m \u001b[0mfinal_targets\u001b[0m \u001b[0;32mor\u001b[0m \u001b[0;34m(\u001b[0m\u001b[0mhandle\u001b[0m \u001b[0;32mand\u001b[0m \u001b[0mfeed_dict_tensor\u001b[0m\u001b[0;34m)\u001b[0m\u001b[0;34m:\u001b[0m\u001b[0;34m\u001b[0m\u001b[0;34m\u001b[0m\u001b[0m\n\u001b[1;32m   1172\u001b[0m       results = self._do_run(handle, final_targets, final_fetches,\n\u001b[0;32m-> 1173\u001b[0;31m                              feed_dict_tensor, options, run_metadata)\n\u001b[0m\u001b[1;32m   1174\u001b[0m     \u001b[0;32melse\u001b[0m\u001b[0;34m:\u001b[0m\u001b[0;34m\u001b[0m\u001b[0;34m\u001b[0m\u001b[0m\n\u001b[1;32m   1175\u001b[0m       \u001b[0mresults\u001b[0m \u001b[0;34m=\u001b[0m \u001b[0;34m[\u001b[0m\u001b[0;34m]\u001b[0m\u001b[0;34m\u001b[0m\u001b[0;34m\u001b[0m\u001b[0m\n",
      "\u001b[0;32m~/tensorflow_1.14.0_env/lib/python3.7/site-packages/tensorflow/python/client/session.py\u001b[0m in \u001b[0;36m_do_run\u001b[0;34m(self, handle, target_list, fetch_list, feed_dict, options, run_metadata)\u001b[0m\n\u001b[1;32m   1348\u001b[0m     \u001b[0;32mif\u001b[0m \u001b[0mhandle\u001b[0m \u001b[0;32mis\u001b[0m \u001b[0;32mNone\u001b[0m\u001b[0;34m:\u001b[0m\u001b[0;34m\u001b[0m\u001b[0;34m\u001b[0m\u001b[0m\n\u001b[1;32m   1349\u001b[0m       return self._do_call(_run_fn, feeds, fetches, targets, options,\n\u001b[0;32m-> 1350\u001b[0;31m                            run_metadata)\n\u001b[0m\u001b[1;32m   1351\u001b[0m     \u001b[0;32melse\u001b[0m\u001b[0;34m:\u001b[0m\u001b[0;34m\u001b[0m\u001b[0;34m\u001b[0m\u001b[0m\n\u001b[1;32m   1352\u001b[0m       \u001b[0;32mreturn\u001b[0m \u001b[0mself\u001b[0m\u001b[0;34m.\u001b[0m\u001b[0m_do_call\u001b[0m\u001b[0;34m(\u001b[0m\u001b[0m_prun_fn\u001b[0m\u001b[0;34m,\u001b[0m \u001b[0mhandle\u001b[0m\u001b[0;34m,\u001b[0m \u001b[0mfeeds\u001b[0m\u001b[0;34m,\u001b[0m \u001b[0mfetches\u001b[0m\u001b[0;34m)\u001b[0m\u001b[0;34m\u001b[0m\u001b[0;34m\u001b[0m\u001b[0m\n",
      "\u001b[0;32m~/tensorflow_1.14.0_env/lib/python3.7/site-packages/tensorflow/python/client/session.py\u001b[0m in \u001b[0;36m_do_call\u001b[0;34m(self, fn, *args)\u001b[0m\n\u001b[1;32m   1368\u001b[0m           \u001b[0;32mpass\u001b[0m\u001b[0;34m\u001b[0m\u001b[0;34m\u001b[0m\u001b[0m\n\u001b[1;32m   1369\u001b[0m       \u001b[0mmessage\u001b[0m \u001b[0;34m=\u001b[0m \u001b[0merror_interpolation\u001b[0m\u001b[0;34m.\u001b[0m\u001b[0minterpolate\u001b[0m\u001b[0;34m(\u001b[0m\u001b[0mmessage\u001b[0m\u001b[0;34m,\u001b[0m \u001b[0mself\u001b[0m\u001b[0;34m.\u001b[0m\u001b[0m_graph\u001b[0m\u001b[0;34m)\u001b[0m\u001b[0;34m\u001b[0m\u001b[0;34m\u001b[0m\u001b[0m\n\u001b[0;32m-> 1370\u001b[0;31m       \u001b[0;32mraise\u001b[0m \u001b[0mtype\u001b[0m\u001b[0;34m(\u001b[0m\u001b[0me\u001b[0m\u001b[0;34m)\u001b[0m\u001b[0;34m(\u001b[0m\u001b[0mnode_def\u001b[0m\u001b[0;34m,\u001b[0m \u001b[0mop\u001b[0m\u001b[0;34m,\u001b[0m \u001b[0mmessage\u001b[0m\u001b[0;34m)\u001b[0m\u001b[0;34m\u001b[0m\u001b[0;34m\u001b[0m\u001b[0m\n\u001b[0m\u001b[1;32m   1371\u001b[0m \u001b[0;34m\u001b[0m\u001b[0m\n\u001b[1;32m   1372\u001b[0m   \u001b[0;32mdef\u001b[0m \u001b[0m_extend_graph\u001b[0m\u001b[0;34m(\u001b[0m\u001b[0mself\u001b[0m\u001b[0;34m)\u001b[0m\u001b[0;34m:\u001b[0m\u001b[0;34m\u001b[0m\u001b[0;34m\u001b[0m\u001b[0m\n",
      "\u001b[0;31mResourceExhaustedError\u001b[0m: OOM when allocating tensor with shape[25088,4096] and type float on /job:localhost/replica:0/task:0/device:GPU:0 by allocator GPU_0_bfc\n\t [[node fc1/random_uniform/RandomUniform (defined at /home/jhjung/tensorflow_1.14.0_env/lib/python3.7/site-packages/keras/backend/tensorflow_backend.py:4357) ]]\nHint: If you want to see a list of allocated tensors when OOM happens, add report_tensor_allocations_upon_oom to RunOptions for current allocation info.\n\n\nOriginal stack trace for 'fc1/random_uniform/RandomUniform':\n  File \"/usr/lib/python3.7/runpy.py\", line 193, in _run_module_as_main\n    \"__main__\", mod_spec)\n  File \"/usr/lib/python3.7/runpy.py\", line 85, in _run_code\n    exec(code, run_globals)\n  File \"/home/jhjung/tensorflow_1.14.0_env/lib/python3.7/site-packages/ipykernel_launcher.py\", line 16, in <module>\n    app.launch_new_instance()\n  File \"/home/jhjung/tensorflow_1.14.0_env/lib/python3.7/site-packages/traitlets/config/application.py\", line 664, in launch_instance\n    app.start()\n  File \"/home/jhjung/tensorflow_1.14.0_env/lib/python3.7/site-packages/ipykernel/kernelapp.py\", line 563, in start\n    self.io_loop.start()\n  File \"/home/jhjung/tensorflow_1.14.0_env/lib/python3.7/site-packages/tornado/platform/asyncio.py\", line 148, in start\n    self.asyncio_loop.run_forever()\n  File \"/usr/lib/python3.7/asyncio/base_events.py\", line 534, in run_forever\n    self._run_once()\n  File \"/usr/lib/python3.7/asyncio/base_events.py\", line 1771, in _run_once\n    handle._run()\n  File \"/usr/lib/python3.7/asyncio/events.py\", line 88, in _run\n    self._context.run(self._callback, *self._args)\n  File \"/home/jhjung/tensorflow_1.14.0_env/lib/python3.7/site-packages/tornado/ioloop.py\", line 690, in <lambda>\n    lambda f: self._run_callback(functools.partial(callback, future))\n  File \"/home/jhjung/tensorflow_1.14.0_env/lib/python3.7/site-packages/tornado/ioloop.py\", line 743, in _run_callback\n    ret = callback()\n  File \"/home/jhjung/tensorflow_1.14.0_env/lib/python3.7/site-packages/tornado/gen.py\", line 787, in inner\n    self.run()\n  File \"/home/jhjung/tensorflow_1.14.0_env/lib/python3.7/site-packages/tornado/gen.py\", line 748, in run\n    yielded = self.gen.send(value)\n  File \"/home/jhjung/tensorflow_1.14.0_env/lib/python3.7/site-packages/ipykernel/kernelbase.py\", line 378, in dispatch_queue\n    yield self.process_one()\n  File \"/home/jhjung/tensorflow_1.14.0_env/lib/python3.7/site-packages/tornado/gen.py\", line 225, in wrapper\n    runner = Runner(result, future, yielded)\n  File \"/home/jhjung/tensorflow_1.14.0_env/lib/python3.7/site-packages/tornado/gen.py\", line 714, in __init__\n    self.run()\n  File \"/home/jhjung/tensorflow_1.14.0_env/lib/python3.7/site-packages/tornado/gen.py\", line 748, in run\n    yielded = self.gen.send(value)\n  File \"/home/jhjung/tensorflow_1.14.0_env/lib/python3.7/site-packages/ipykernel/kernelbase.py\", line 365, in process_one\n    yield gen.maybe_future(dispatch(*args))\n  File \"/home/jhjung/tensorflow_1.14.0_env/lib/python3.7/site-packages/tornado/gen.py\", line 209, in wrapper\n    yielded = next(result)\n  File \"/home/jhjung/tensorflow_1.14.0_env/lib/python3.7/site-packages/ipykernel/kernelbase.py\", line 272, in dispatch_shell\n    yield gen.maybe_future(handler(stream, idents, msg))\n  File \"/home/jhjung/tensorflow_1.14.0_env/lib/python3.7/site-packages/tornado/gen.py\", line 209, in wrapper\n    yielded = next(result)\n  File \"/home/jhjung/tensorflow_1.14.0_env/lib/python3.7/site-packages/ipykernel/kernelbase.py\", line 542, in execute_request\n    user_expressions, allow_stdin,\n  File \"/home/jhjung/tensorflow_1.14.0_env/lib/python3.7/site-packages/tornado/gen.py\", line 209, in wrapper\n    yielded = next(result)\n  File \"/home/jhjung/tensorflow_1.14.0_env/lib/python3.7/site-packages/ipykernel/ipkernel.py\", line 294, in do_execute\n    res = shell.run_cell(code, store_history=store_history, silent=silent)\n  File \"/home/jhjung/tensorflow_1.14.0_env/lib/python3.7/site-packages/ipykernel/zmqshell.py\", line 536, in run_cell\n    return super(ZMQInteractiveShell, self).run_cell(*args, **kwargs)\n  File \"/home/jhjung/tensorflow_1.14.0_env/lib/python3.7/site-packages/IPython/core/interactiveshell.py\", line 2855, in run_cell\n    raw_cell, store_history, silent, shell_futures)\n  File \"/home/jhjung/tensorflow_1.14.0_env/lib/python3.7/site-packages/IPython/core/interactiveshell.py\", line 2881, in _run_cell\n    return runner(coro)\n  File \"/home/jhjung/tensorflow_1.14.0_env/lib/python3.7/site-packages/IPython/core/async_helpers.py\", line 68, in _pseudo_sync_runner\n    coro.send(None)\n  File \"/home/jhjung/tensorflow_1.14.0_env/lib/python3.7/site-packages/IPython/core/interactiveshell.py\", line 3058, in run_cell_async\n    interactivity=interactivity, compiler=compiler, result=result)\n  File \"/home/jhjung/tensorflow_1.14.0_env/lib/python3.7/site-packages/IPython/core/interactiveshell.py\", line 3249, in run_ast_nodes\n    if (await self.run_code(code, result,  async_=asy)):\n  File \"/home/jhjung/tensorflow_1.14.0_env/lib/python3.7/site-packages/IPython/core/interactiveshell.py\", line 3326, in run_code\n    exec(code_obj, self.user_global_ns, self.user_ns)\n  File \"<ipython-input-5-d7a3e1f44916>\", line 10, in <module>\n    model = model_from_json(loaded_model_json)\n  File \"/home/jhjung/tensorflow_1.14.0_env/lib/python3.7/site-packages/keras/engine/saving.py\", line 664, in model_from_json\n    return deserialize(config, custom_objects=custom_objects)\n  File \"/home/jhjung/tensorflow_1.14.0_env/lib/python3.7/site-packages/keras/layers/__init__.py\", line 168, in deserialize\n    printable_module_name='layer')\n  File \"/home/jhjung/tensorflow_1.14.0_env/lib/python3.7/site-packages/keras/utils/generic_utils.py\", line 147, in deserialize_keras_object\n    list(custom_objects.items())))\n  File \"/home/jhjung/tensorflow_1.14.0_env/lib/python3.7/site-packages/keras/engine/network.py\", line 1075, in from_config\n    process_node(layer, node_data)\n  File \"/home/jhjung/tensorflow_1.14.0_env/lib/python3.7/site-packages/keras/engine/network.py\", line 1025, in process_node\n    layer(unpack_singleton(input_tensors), **kwargs)\n  File \"/home/jhjung/tensorflow_1.14.0_env/lib/python3.7/site-packages/keras/engine/base_layer.py\", line 463, in __call__\n    self.build(unpack_singleton(input_shapes))\n  File \"/home/jhjung/tensorflow_1.14.0_env/lib/python3.7/site-packages/keras/layers/core.py\", line 895, in build\n    constraint=self.kernel_constraint)\n  File \"/home/jhjung/tensorflow_1.14.0_env/lib/python3.7/site-packages/keras/engine/base_layer.py\", line 279, in add_weight\n    weight = K.variable(initializer(shape, dtype=dtype),\n  File \"/home/jhjung/tensorflow_1.14.0_env/lib/python3.7/site-packages/keras/initializers.py\", line 227, in __call__\n    dtype=dtype, seed=self.seed)\n  File \"/home/jhjung/tensorflow_1.14.0_env/lib/python3.7/site-packages/keras/backend/tensorflow_backend.py\", line 4357, in random_uniform\n    shape, minval=minval, maxval=maxval, dtype=dtype, seed=seed)\n  File \"/home/jhjung/tensorflow_1.14.0_env/lib/python3.7/site-packages/tensorflow/python/keras/backend.py\", line 5253, in random_uniform\n    shape, minval=minval, maxval=maxval, dtype=dtype, seed=seed)\n  File \"/home/jhjung/tensorflow_1.14.0_env/lib/python3.7/site-packages/tensorflow/python/ops/random_ops.py\", line 247, in random_uniform\n    rnd = gen_random_ops.random_uniform(shape, dtype, seed=seed1, seed2=seed2)\n  File \"/home/jhjung/tensorflow_1.14.0_env/lib/python3.7/site-packages/tensorflow/python/ops/gen_random_ops.py\", line 820, in random_uniform\n    name=name)\n  File \"/home/jhjung/tensorflow_1.14.0_env/lib/python3.7/site-packages/tensorflow/python/framework/op_def_library.py\", line 788, in _apply_op_helper\n    op_def=op_def)\n  File \"/home/jhjung/tensorflow_1.14.0_env/lib/python3.7/site-packages/tensorflow/python/util/deprecation.py\", line 507, in new_func\n    return func(*args, **kwargs)\n  File \"/home/jhjung/tensorflow_1.14.0_env/lib/python3.7/site-packages/tensorflow/python/framework/ops.py\", line 3616, in create_op\n    op_def=op_def)\n  File \"/home/jhjung/tensorflow_1.14.0_env/lib/python3.7/site-packages/tensorflow/python/framework/ops.py\", line 2005, in __init__\n    self._traceback = tf_stack.extract_stack()\n"
     ]
    }
   ],
   "source": [
    "# 1. Network Model Load\n",
    "ROOT_DIR = os.path.abspath('./')\n",
    "EXP_DIR = os.path.abspath('./experiments')\n",
    "JOB_DIR = os.path.join(EXP_DIR, 'vgg16-airplane')\n",
    "\n",
    "# 1-1. Network model structure json load\n",
    "json_file = open(\"{}/network_model.json\".format(JOB_DIR), \"r\")\n",
    "loaded_model_json = json_file.read()\n",
    "json_file.close()\n",
    "model = model_from_json(loaded_model_json)\n",
    "    \n",
    "# 1-2. Trained weight load and Copy to model\n",
    "model.load_weights(\"{}/vgg16-airplane_07_0.1285.h5\".format(JOB_DIR))"
   ]
  },
  {
   "cell_type": "markdown",
   "metadata": {},
   "source": [
    "### 2. Image Load"
   ]
  },
  {
   "cell_type": "code",
   "execution_count": null,
   "metadata": {
    "ExecuteTime": {
     "end_time": "2019-12-05T00:19:31.020848Z",
     "start_time": "2019-12-05T00:19:18.337Z"
    }
   },
   "outputs": [],
   "source": [
    "# 2. Image Load\n",
    "IMG_DIR = os.path.join(ROOT_DIR, 'data/air_planes/images')\n",
    "\n",
    "img_list = os.listdir(IMG_DIR)\n",
    "img_file = random.choice(img_list)\n",
    "img_path = os.path.join(IMG_DIR, img_file)\n",
    "print('Image Path ::', img_path)\n",
    "\n",
    "img = cv2.imread(img_path)"
   ]
  },
  {
   "cell_type": "markdown",
   "metadata": {},
   "source": [
    "### 3. Proposal Region Using Selective Search"
   ]
  },
  {
   "cell_type": "code",
   "execution_count": null,
   "metadata": {
    "ExecuteTime": {
     "end_time": "2019-12-05T00:19:31.022676Z",
     "start_time": "2019-12-05T00:19:18.608Z"
    }
   },
   "outputs": [],
   "source": [
    "# 3. Proposal Region using Selective Search\n",
    "ss = cv2.ximgproc.segmentation.createSelectiveSearchSegmentation()\n",
    "ss.setBaseImage(img)\n",
    "ss.switchToSelectiveSearchFast()\n",
    "ssresults = ss.process()\n",
    "\n",
    "print('Selective Search Result Shape ::', ssresults.shape)"
   ]
  },
  {
   "cell_type": "markdown",
   "metadata": {},
   "source": [
    "### 4. Pridict Object"
   ]
  },
  {
   "cell_type": "code",
   "execution_count": null,
   "metadata": {
    "ExecuteTime": {
     "end_time": "2019-12-05T00:19:31.024534Z",
     "start_time": "2019-12-05T00:19:18.897Z"
    },
    "scrolled": false
   },
   "outputs": [],
   "source": [
    "# 4. Each Proposed region CNN Forward Pass\n",
    "predict_regions = np.array([], dtype=np.float32).reshape(0, 5)\n",
    "for i, region in enumerate(ssresults):\n",
    "    x, y, w, h = region\n",
    "    timg = img[y : y+h, x : x + w]\n",
    "    rimg = cv2.resize(timg, (224, 224), interpolation = cv2.INTER_AREA)\n",
    "    rimg = np.divide(rimg, 255.)\n",
    "    inimg = np.expand_dims(rimg, axis=0)\n",
    "    output = model.predict(inimg)\n",
    "    if output[0][1] > 0.9:\n",
    "        region = region.astype(np.float32)\n",
    "        tmp = np.insert(region, 4, output[0][1])\n",
    "        predict_regions = np.vstack([predict_regions, tmp])\n",
    "        \n",
    "# Ground Truth 좌표형태(xmin, ymin, xmax, ymax) 맞춰주기 위해서\n",
    "predict_regions[:, 2] = predict_regions[:, 0] + predict_regions[:, 2]\n",
    "predict_regions[:, 3] = predict_regions[:, 1] + predict_regions[:, 3]\n",
    "print('Predict Regions ::', predict_regions.shape)"
   ]
  },
  {
   "cell_type": "markdown",
   "metadata": {},
   "source": [
    "### 5. Bounding Box Regression"
   ]
  },
  {
   "cell_type": "code",
   "execution_count": null,
   "metadata": {
    "ExecuteTime": {
     "end_time": "2019-12-05T00:19:31.026233Z",
     "start_time": "2019-12-05T00:19:19.177Z"
    }
   },
   "outputs": [],
   "source": [
    "# 5. Apply Bounding Box regression\n",
    "# 5-1. BBox Regression Network Model Load\n",
    "ROOT_DIR = os.path.abspath('./')\n",
    "EXP_DIR = os.path.abspath('./experiments')\n",
    "JOB_DIR = os.path.join(EXP_DIR, 'vgg16-airplane/reg')\n",
    "\n",
    "# 5-1. BBox Regression Network model structure json load\n",
    "json_file = open(\"{}/network_model.json\".format(JOB_DIR), \"r\")\n",
    "loaded_model_json = json_file.read()\n",
    "json_file.close()\n",
    "model = model_from_json(loaded_model_json)\n",
    "    \n",
    "# 5-2. BBox Regression Trained weight load and Copy to model\n",
    "model.load_weights(\"{}/trained_weight.h5\".format(JOB_DIR))\n",
    "\n",
    "for i, region in enumerate(predict_regions):\n",
    "    x, y, w, h, _= region\n",
    "    timg = img[int(y) : int(y+h), int(x) : int(x + w)]\n",
    "    rimg = cv2.resize(timg, (224, 224), interpolation = cv2.INTER_AREA)\n",
    "    rimg = np.divide(rimg, 255.)\n",
    "    inimg = np.expand_dims(rimg, axis=0)\n",
    "    reg_output = model.predict(inimg)"
   ]
  },
  {
   "cell_type": "code",
   "execution_count": null,
   "metadata": {
    "ExecuteTime": {
     "end_time": "2019-12-05T00:19:31.027974Z",
     "start_time": "2019-12-05T00:19:19.313Z"
    },
    "scrolled": false
   },
   "outputs": [],
   "source": [
    "# Refine BBox Display\n",
    "refine_regions = predict_regions.copy()\n",
    "if refine_regions.shape[0] > 0:\n",
    "    refine_regions[:, 0] = np.trunc((refine_regions[:, 2] * reg_output[:, 0]) + refine_regions[:, 0])\n",
    "    refine_regions[:, 1] = np.trunc((refine_regions[:, 3] * reg_output[:, 1]) + refine_regions[:, 1])\n",
    "    refine_regions[:, 2] = np.trunc(refine_regions[:, 2] * np.exp(reg_output[:, 2]))\n",
    "    refine_regions[:, 3] = np.trunc(refine_regions[:, 3] * np.exp(reg_output[:, 3]))\n",
    "\n",
    "    fig, ax = plt.subplots(1, figsize=(10, 10))\n",
    "\n",
    "    for bbox in predict_regions:\n",
    "        x1, y1, x2, y2, _ = bbox\n",
    "        p = patches.Rectangle((x1, y1), x2-x1, y2-y1, linewidth=2, alpha=1.0, linestyle=\"solid\", edgecolor='cyan', facecolor='none')\n",
    "        ax.add_patch(p)\n",
    "\n",
    "\n",
    "    for bbox in refine_regions:\n",
    "        x1, y1, x2, y2, _ = bbox\n",
    "        p = patches.Rectangle((x1, y1), x2-x1, y2-y1, linewidth=2, alpha=1.0, linestyle=\":\", edgecolor='yellow', facecolor='none')\n",
    "        ax.add_patch(p)\n",
    "    ax.imshow(cv2.cvtColor(img, cv2.COLOR_BGR2RGB))\n",
    "    ax.axis('off')\n",
    "    ax.set_title('Display Refine Bounding Box')"
   ]
  },
  {
   "cell_type": "markdown",
   "metadata": {},
   "source": [
    "### 6. Apply Non Naximum Suppression"
   ]
  },
  {
   "cell_type": "code",
   "execution_count": null,
   "metadata": {
    "ExecuteTime": {
     "end_time": "2019-12-05T00:19:31.029729Z",
     "start_time": "2019-12-05T00:19:19.634Z"
    }
   },
   "outputs": [],
   "source": [
    "# 6. Apply Non Naximum Suppression\n",
    "nms_regions = NonMaximumSuppression(refine_regions)\n",
    "print('Before regions ::', refine_regions.shape)\n",
    "print('NMS regions ::', nms_regions.shape)"
   ]
  },
  {
   "cell_type": "markdown",
   "metadata": {},
   "source": [
    "### 7. Evaluation"
   ]
  },
  {
   "cell_type": "code",
   "execution_count": null,
   "metadata": {
    "ExecuteTime": {
     "end_time": "2019-12-05T00:19:31.031410Z",
     "start_time": "2019-12-05T00:19:19.953Z"
    },
    "scrolled": false
   },
   "outputs": [],
   "source": [
    "# 7. Evaluation\n",
    "EVAL_TH = 0.5\n",
    "\n",
    "# 7-1. Read GT Data\n",
    "ANN_DIR = os.path.join(ROOT_DIR, 'data/air_planes/annotations')\n",
    "ann_list = os.listdir(ANN_DIR)\n",
    "ann_file = '{}.csv'.format(img_file.split('.')[0])\n",
    "ann_path = os.path.join(ANN_DIR, ann_file)\n",
    "print('annotation path ::', ann_path)\n",
    "\n",
    "ann = pd.read_csv(ann_path)\n",
    "gt_bboxes = np.array([], dtype=np.int32).reshape(0, 4)\n",
    "for row in ann.iterrows():\n",
    "    line = row[1][0].split(\" \")\n",
    "    x1 = int(line[0])\n",
    "    y1 = int(line[1])\n",
    "    x2 = int(line[2])\n",
    "    y2 = int(line[3])\n",
    "    gt_bboxes = np.vstack([gt_bboxes, [x1, y1, x2, y2]])\n",
    "\n",
    "# 7-2. Compute IOU Between GT and Predict Regions\n",
    "eval_result = np.array([], dtype=np.int32).reshape(0, 6)\n",
    "p = nms_regions.copy()\n",
    "\n",
    "for gt_bbox in gt_bboxes:\n",
    "    iou = ComputeIOU(gt_bbox, p)\n",
    "    measure = np.where(iou > EVAL_TH)[0]\n",
    "    \n",
    "    if len(measure) == 0:\n",
    "        continue\n",
    "    \n",
    "    # GT 당 1개의 Predict BBox가 있다면 TP,\n",
    "    # 여러개의 Predict BBox가 있다면 1개만 TP 나머지는 FP\n",
    "    if len(measure) == 1:\n",
    "        tmp_tp = np.insert(p[measure], 5, 1, axis=1)\n",
    "        eval_result = np.vstack([eval_result, tmp_tp])\n",
    "    else:\n",
    "        tp_idx = np.argmax(p[measure][:,-1])\n",
    "        tmp_tp = np.insert(p[tp_idx], 5, 1)\n",
    "\n",
    "        eval_result = np.vstack([eval_result, tmp_tp])\n",
    "        fp_idx = np.delete(measure, tp_idx)\n",
    "        if len(fp_idx) > 0:\n",
    "            tmp_fp = np.insert(p[fp_idx], 5, 0, axis=1)\n",
    "            eval_result = np.vstack([eval_result, tmp_fp])\n",
    "    \n",
    "    p = np.delete(p, measure, axis=0)\n",
    "\n",
    "# TP Measure 후 남은 Bounding Box는 모두 FP\n",
    "if len(p) > 0:\n",
    "    p = np.insert(p, 5, 0, axis=1)\n",
    "    eval_result = np.vstack([eval_result, p])\n"
   ]
  },
  {
   "cell_type": "markdown",
   "metadata": {
    "ExecuteTime": {
     "end_time": "2019-12-03T01:47:34.433030Z",
     "start_time": "2019-12-03T01:47:34.428268Z"
    }
   },
   "source": [
    "### 8. Visualize"
   ]
  },
  {
   "cell_type": "code",
   "execution_count": null,
   "metadata": {
    "ExecuteTime": {
     "end_time": "2019-12-05T00:19:31.033162Z",
     "start_time": "2019-12-05T00:19:20.273Z"
    }
   },
   "outputs": [],
   "source": [
    "# Bounding BBox Display\n",
    "fig, ax = plt.subplots(3, 1, figsize=(10, 10))\n",
    "\n",
    "for bbox in predict_regions:\n",
    "    x1, y1, x2, y2, _ = bbox\n",
    "    p = patches.Rectangle((x1, y1), x2-x1, y2-y1, linewidth=2, alpha=1.0, linestyle=\"solid\", edgecolor='cyan', facecolor='none')\n",
    "    ax[0].add_patch(p)\n",
    "    ax[0].imshow(cv2.cvtColor(img, cv2.COLOR_BGR2RGB))\n",
    "    ax[0].axis('off')\n",
    "    ax[0].set_title('Predict')\n",
    "    \n",
    "for bbox in nms_regions:\n",
    "    x1, y1, x2, y2, _ = bbox\n",
    "    p = patches.Rectangle((x1, y1), x2-x1, y2-y1, linewidth=2, alpha=1.0, linestyle=\"solid\", edgecolor='yellow', facecolor='none')\n",
    "    ax[1].add_patch(p)\n",
    "    ax[1].imshow(cv2.cvtColor(img, cv2.COLOR_BGR2RGB))\n",
    "    ax[1].axis('off')\n",
    "    ax[1].set_title('Non Maximum Suppression')\n",
    "\n",
    "for bbox in eval_result:\n",
    "    x1, y1, x2, y2, _, measure = bbox\n",
    "    color = 'blue' if measure == 1 else 'red'\n",
    "    p = patches.Rectangle((x1, y1), x2-x1, y2-y1, linewidth=2, alpha=1.0, linestyle=\"solid\", edgecolor=color, facecolor='none')\n",
    "    ax[2].add_patch(p)\n",
    "    ax[2].imshow(cv2.cvtColor(img, cv2.COLOR_BGR2RGB))\n",
    "    ax[2].axis('off')\n",
    "    ax[2].set_title('Eavaluation')\n",
    "    \n",
    "plt.tight_layout()"
   ]
  }
 ],
 "metadata": {
  "kernelspec": {
   "display_name": "tensorflow_1.14.0_env",
   "language": "python",
   "name": "tensorflow_1.14.0_env"
  },
  "language_info": {
   "codemirror_mode": {
    "name": "ipython",
    "version": 3
   },
   "file_extension": ".py",
   "mimetype": "text/x-python",
   "name": "python",
   "nbconvert_exporter": "python",
   "pygments_lexer": "ipython3",
   "version": "3.7.5"
  },
  "varInspector": {
   "cols": {
    "lenName": 16,
    "lenType": 16,
    "lenVar": 40
   },
   "kernels_config": {
    "python": {
     "delete_cmd_postfix": "",
     "delete_cmd_prefix": "del ",
     "library": "var_list.py",
     "varRefreshCmd": "print(var_dic_list())"
    },
    "r": {
     "delete_cmd_postfix": ") ",
     "delete_cmd_prefix": "rm(",
     "library": "var_list.r",
     "varRefreshCmd": "cat(var_dic_list()) "
    }
   },
   "oldHeight": 737,
   "position": {
    "height": "759px",
    "left": "1283px",
    "right": "20px",
    "top": "94px",
    "width": "618px"
   },
   "types_to_exclude": [
    "module",
    "function",
    "builtin_function_or_method",
    "instance",
    "_Feature"
   ],
   "varInspector_section_display": "block",
   "window_display": false
  }
 },
 "nbformat": 4,
 "nbformat_minor": 2
}
