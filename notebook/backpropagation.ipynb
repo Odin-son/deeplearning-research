{
  "nbformat": 4,
  "nbformat_minor": 0,
  "metadata": {
    "colab": {
      "name": "backpropagation.ipynb",
      "provenance": [],
      "collapsed_sections": [],
      "include_colab_link": true
    },
    "kernelspec": {
      "name": "python3",
      "display_name": "Python 3"
    },
    "accelerator": "GPU"
  },
  "cells": [
    {
      "cell_type": "markdown",
      "metadata": {
        "id": "view-in-github",
        "colab_type": "text"
      },
      "source": [
        "<a href=\"https://colab.research.google.com/github/Raidin/DeepLearningReserach/blob/remind_basic_skill/backpropagation.ipynb\" target=\"_parent\"><img src=\"https://colab.research.google.com/assets/colab-badge.svg\" alt=\"Open In Colab\"/></a>"
      ]
    },
    {
      "cell_type": "markdown",
      "metadata": {
        "id": "yUoY_iqiCAh4",
        "colab_type": "text"
      },
      "source": [
        "# **BackPropagation Example**\n",
        "---\n",
        "> 2개의 Input과 N(2)개의 Hidden Layer를 Forward하여 1개의 output값을 Regression하는 Neural Network Backpropagation 과정 구현\n",
        "\n",
        "* Input data : [0.1, 0.9]\n",
        "* Target : [0.2, 0.7]\n",
        "* Layer-1 weight : [[0.1, 1.0], [0.1, 0.5]]\n",
        "* Layer-2 weight : [[0.5], [0.1]]\n",
        "* Output : [1.0]\n",
        "* Using Activation : [Sigmoid, Tanh, Relu, LeakyRelu, ELU]\n",
        "* Error Fuction : MSE(Mean Squared Error)\n",
        "\n",
        "\n",
        "* Neural Network\n",
        "\n",
        "![NeuralNetwork](https://docs.google.com/uc?export=download&id=1yH_xuGN8bZLO5v7nxdNzrcSAwPSy399a)\n",
        "\n",
        "* Forward Equation\n",
        "\n",
        "![NeuralNetwork](https://docs.google.com/uc?export=download&id=1QZoIlkyIC3Tv2ZlMGrQj7ulNnSt7I9V-)\n",
        "\n",
        "* Backward Equation\n",
        "\n",
        "![NeuralNetwork](https://docs.google.com/uc?export=download&id=1lLUZlwaXf1Y394q_DBwZB-lcekpADoi9)"
      ]
    },
    {
      "cell_type": "code",
      "metadata": {
        "id": "aJHt8HRJ-nZ_",
        "colab_type": "code",
        "colab": {}
      },
      "source": [
        "import copy\n",
        "import numpy as np\n",
        "import matplotlib.pyplot as plt"
      ],
      "execution_count": 0,
      "outputs": []
    },
    {
      "cell_type": "markdown",
      "metadata": {
        "id": "1CTbAoBjwYb0",
        "colab_type": "text"
      },
      "source": [
        "###Weight Class\n",
        "---\n",
        "  * Detail\n",
        "    * Initialize Each Layer Weight\n",
        "\n",
        "  * Init param\n",
        "    * in_size(default=1) : Input data size\n",
        "    * hidden_size(default=2) : 각 Hidden Layer의 weight 수\n",
        "    * out_size(default=2) : 최종 output 수\n",
        "    * layer_size(default=2) : hidden layer 수\n",
        "\n",
        "  * Member\n",
        "    * Fixed() : 고정된 값 사용\n",
        "    * Uniform() : [0:1] 사이의 uniform한 값 사용\n",
        "    * NormalDistribution() : 정규분포를 가지는 값 사용"
      ]
    },
    {
      "cell_type": "code",
      "metadata": {
        "id": "Ss87n2iWwWE-",
        "colab_type": "code",
        "colab": {}
      },
      "source": [
        "class Weight:\n",
        "    def __init__(self, in_size=2, hidden_size=2, out_size=2, layer_size=2):\n",
        "        self.in_size = in_size\n",
        "        self.hidden_size = hidden_size\n",
        "        self.out_size = out_size\n",
        "        self.layer_size = layer_size\n",
        "        self.weights = []\n",
        "\n",
        "        np.random.seed(777)\n",
        "\n",
        "    def getWeights(self):\n",
        "        return self.weights\n",
        "\n",
        "    def Fixed(self):\n",
        "        self.weights.append(np.array([[0.1, 1.0], [0.1, 0.5]], dtype='float16'))\n",
        "        self.weights.append(np.array([[0.5], [0.1]], dtype='float16'))\n",
        "\n",
        "    def Uniform(self):\n",
        "        for i in range(self.layer_size):\n",
        "            self.weights.append(np.random.uniform(0, 1, (self.in_size, self.hidden_size)))\n",
        "            self.in_size = self.hidden_size\n",
        "            self.hidden_size = self.out_size if i+1 == self.layer_size-1 else self.hidden_size\n",
        "\n",
        "    def NormalDistribution(self):\n",
        "        weight_init_std = 0.1\n",
        "        for i in range(self.layer_size):\n",
        "            self.weights.append(weight_init_std * np.random.randn(self.in_size, self.hidden_size))\n",
        "            self.in_size = self.hidden_size\n",
        "            self.hidden_size = self.out_size if i+1 == self.layer_size-1 else self.hidden_size"
      ],
      "execution_count": 0,
      "outputs": []
    },
    {
      "cell_type": "markdown",
      "metadata": {
        "id": "cRLVmszgyTca",
        "colab_type": "text"
      },
      "source": [
        "###DraowLossPlot()\n",
        "---\n",
        "  * Detail\n",
        "    * Loss graph display per epoch \n",
        "  * param\n",
        "    * **loss : loss value per epoch "
      ]
    },
    {
      "cell_type": "code",
      "metadata": {
        "id": "z-ugXubx9VGH",
        "colab_type": "code",
        "colab": {}
      },
      "source": [
        "def DrawLossPlot(**loss) :\n",
        "    for key, value in loss.items():\n",
        "        plt.plot(value, label=key, linewidth='1.0', linestyle='-')\n",
        "    plt.grid(alpha=.9, linestyle='--')\n",
        "    plt.legend(loc='upper right', fontsize='large')\n",
        "    plt.xlabel('epoch')\n",
        "    plt.ylabel('loss')\n",
        "    plt.title('Loss')\n",
        "    plt.show()"
      ],
      "execution_count": 0,
      "outputs": []
    },
    {
      "cell_type": "markdown",
      "metadata": {
        "id": "MuKx8x6EKnva",
        "colab_type": "text"
      },
      "source": [
        "###MeanSquredError()\n",
        "---\n",
        "  * Detail\n",
        "    * Error Function(Using Mean Squared Error)\n",
        "  * param\n",
        "    * y : network로부터 출력된 결과\n",
        "    * t : Ground Truth(정답)\n",
        "    * prime(default=False) : 미분적용 여부\n",
        "    "
      ]
    },
    {
      "cell_type": "code",
      "metadata": {
        "id": "QvvNL08CBbuf",
        "colab_type": "code",
        "colab": {}
      },
      "source": [
        "def MeanSquredError(y, t, prime=False):\n",
        "    if prime:\n",
        "        return y - t\n",
        "    else:\n",
        "        return np.sum(pow(t - y,2))/2"
      ],
      "execution_count": 0,
      "outputs": []
    },
    {
      "cell_type": "markdown",
      "metadata": {
        "id": "NnUXheHcLHY2",
        "colab_type": "text"
      },
      "source": [
        "###Sigmoid()\n",
        "---\n",
        "  * Detail\n",
        "    * Activation Function \n",
        "  * param\n",
        "    * x : 입력 값\n",
        "    * prime(default=False) : 미분적용 여부\n",
        "    "
      ]
    },
    {
      "cell_type": "code",
      "metadata": {
        "id": "WVTy15_eKYiy",
        "colab_type": "code",
        "colab": {}
      },
      "source": [
        "def Sigmoid(x, prime=False):\n",
        "    if prime:\n",
        "        return Sigmoid(x) * (1-Sigmoid(x))\n",
        "    else:\n",
        "        return 1 / (1 + np.exp(-x))"
      ],
      "execution_count": 0,
      "outputs": []
    },
    {
      "cell_type": "markdown",
      "metadata": {
        "id": "MozZ5-SLLRz_",
        "colab_type": "text"
      },
      "source": [
        "###Forward()\n",
        "---\n",
        "  * Detail\n",
        "    * Feed Forward\n",
        "  * param\n",
        "    * x : 입력 값\n",
        "    * weights : layer weight 값\n",
        "    * act : activation fucntion"
      ]
    },
    {
      "cell_type": "code",
      "metadata": {
        "id": "B1BrcZ6UKbYJ",
        "colab_type": "code",
        "colab": {}
      },
      "source": [
        "def Forward(x, weigths, act):\n",
        "    result = []\n",
        "\n",
        "    for i, w in enumerate(weigths):\n",
        "        ele = dict()\n",
        "        ele['x'] = x\n",
        "        ele['w'] = w\n",
        "        ele['y'] = np.dot(x, w)\n",
        "        ele['a'] = act(ele['y'])\n",
        "        x = ele['a']\n",
        "        result.append(ele)\n",
        "\n",
        "    return result"
      ],
      "execution_count": 0,
      "outputs": []
    },
    {
      "cell_type": "markdown",
      "metadata": {
        "id": "rUASYynnLey0",
        "colab_type": "text"
      },
      "source": [
        "###Backward()\n",
        "---\n",
        "  * Detail\n",
        "    * Feed Backward\n",
        "  * param\n",
        "    * forward : forward 결과 값\n",
        "    * t : ground truch\n",
        "    * act : activation fucntion"
      ]
    },
    {
      "cell_type": "code",
      "metadata": {
        "id": "QfzmlbN9KcbB",
        "colab_type": "code",
        "colab": {}
      },
      "source": [
        "def Backward(forward, t, act):\n",
        "    dout = MeanSquredError(forward[-1]['a'], t, True) # dt/da2\n",
        "    forward.reverse()\n",
        "    result = []\n",
        "\n",
        "    for f in forward:\n",
        "        dout = dout * act(f['y'], True) # dt/dy2\n",
        "        result.append(np.dot(f['x'].T, dout))\n",
        "        dout = np.dot(dout, f['w'].T)\n",
        "\n",
        "    return result"
      ],
      "execution_count": 0,
      "outputs": []
    },
    {
      "cell_type": "markdown",
      "metadata": {
        "id": "1D8RJk7ELzRe",
        "colab_type": "text"
      },
      "source": [
        "###GradientDescent()\n",
        "---\n",
        "  * Detail\n",
        "    * Gradient Descent\n",
        "  * param\n",
        "    * weights : 최초 사용된 weight\n",
        "    * grad : backpropagation을 통해서 계산된 gradient 값\n",
        "    * lr(learning rate) : 학습율"
      ]
    },
    {
      "cell_type": "code",
      "metadata": {
        "id": "GOuq6_ZvKdXR",
        "colab_type": "code",
        "colab": {}
      },
      "source": [
        "def GradientDescent(weigths, grad, lr=0.5):\n",
        "    grad.reverse()\n",
        "\n",
        "    for i, w in enumerate(weigths):\n",
        "        w -= lr * grad[i]"
      ],
      "execution_count": 0,
      "outputs": []
    },
    {
      "cell_type": "code",
      "metadata": {
        "id": "I_5S-KF-KfA5",
        "colab_type": "code",
        "colab": {}
      },
      "source": [
        "def Train(x, t, params, epoch=100, act_func=Sigmoid, is_visible_loss=False):\n",
        "    loss = []\n",
        "\n",
        "    for i in range(epoch):\n",
        "        # Forward\n",
        "        forward = Forward(x, params, act_func)\n",
        "        out = forward[-1]['a']\n",
        "        loss.append(MeanSquredError(out, t))\n",
        "\n",
        "        # Backward\n",
        "        grad = Backward(forward, t, act_func)\n",
        "\n",
        "        # Gradient Descent\n",
        "        GradientDescent(params, grad)\n",
        "\n",
        "        if is_visible_loss : print('[{}]-iter loss :: {}'.format(i+1, loss[-1]))\n",
        "\n",
        "    print('\\t[TARGET] ::', t)\n",
        "    print('\\t[OUTPUT] ::', out)\n",
        "    print('\\t[LOSS] ::', loss[-1])\n",
        "\n",
        "    return loss"
      ],
      "execution_count": 0,
      "outputs": []
    },
    {
      "cell_type": "code",
      "metadata": {
        "id": "ozH2l6RCKjgJ",
        "colab_type": "code",
        "colab": {
          "base_uri": "https://localhost:8080/",
          "height": 457
        },
        "outputId": "ee137b22-bf63-4c21-8cc3-252c7c10aa3b"
      },
      "source": [
        "t = np.array([1.0], dtype='float16')\n",
        "x = np.array([[0.1, 0.9]], dtype='float16')\n",
        "print('- Input ::', x)\n",
        "\n",
        "w = Weight(in_size=x.shape[1], out_size=t.shape[0])\n",
        "w.Fixed()\n",
        "weight_init = w.getWeights()\n",
        "print('- Weight\\n', weight_init)\n",
        "\n",
        "loss_dict = dict()\n",
        "# activation_func = [Sigmoid, HyperbolicTangent, Relu, LeakyRelu, ELU]\n",
        "\n",
        "# Activation Function을 다르게 적용 할지 유무 결정\n",
        "is_apply_each_act = False\n",
        "\n",
        "if is_apply_each_act:\n",
        "    # Apply Each Activation Function\n",
        "    for act in activation_func:\n",
        "        print(' ============= USING {} ACTIVATION FUNCTION ============= '.format(act.__name__))\n",
        "        loss = Train(x, t, copy.deepcopy(weight_init), act_func=act)\n",
        "        loss_dict[act.__name__] = loss\n",
        "else:\n",
        "    act = Sigmoid\n",
        "    print(' ============= USING {} ACTIVATION FUNCTION ============= '.format(act.__name__))\n",
        "    loss = Train(x, t, copy.deepcopy(weight_init), act_func=act, is_visible_loss=False)\n",
        "    loss_dict[act.__name__] = loss\n",
        "\n",
        "DrawLossPlot(**loss_dict)"
      ],
      "execution_count": 50,
      "outputs": [
        {
          "output_type": "stream",
          "text": [
            "- Input :: [[0.1 0.9]]\n",
            "- Weight\n",
            " [array([[0.1, 1. ],\n",
            "       [0.1, 0.5]], dtype=float16), array([[0.5],\n",
            "       [0.1]], dtype=float16)]\n",
            " ============= USING Sigmoid ACTIVATION FUNCTION ============= \n",
            "\t[TARGET] :: [1.]\n",
            "\t[OUTPUT] :: [[0.873]]\n",
            "\t[LOSS] :: 0.008056640625\n"
          ],
          "name": "stdout"
        },
        {
          "output_type": "display_data",
          "data": {
            "image/png": "[encoded data removed]",
            "text/plain": [
              "<Figure size 432x288 with 1 Axes>"
            ]
          },
          "metadata": {
            "tags": []
          }
        }
      ]
    },
    {
      "cell_type": "code",
      "metadata": {
        "id": "ayrHZeojMU4y",
        "colab_type": "code",
        "colab": {}
      },
      "source": [
        ""
      ],
      "execution_count": 0,
      "outputs": []
    }
  ]
}