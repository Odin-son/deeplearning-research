{
 "cells": [
  {
   "cell_type": "markdown",
   "metadata": {
    "colab_type": "text",
    "id": "view-in-github"
   },
   "source": [
    "<a href=\"https://colab.research.google.com/github/Raidin/DeepLearningReserach/blob/remind_basic_skill/soft_max.ipynb\" target=\"_parent\"><img src=\"https://colab.research.google.com/assets/colab-badge.svg\" alt=\"Open In Colab\"/></a>"
   ]
  },
  {
   "cell_type": "markdown",
   "metadata": {
    "colab_type": "text",
    "id": "eeryin6U-16A"
   },
   "source": [
    "# **SoftMax**\n",
    "---\n",
    "> 다중 분류(Multi Classification)문제에서 최종 출력 값을 정규화 하는 함수\n",
    "* 입력 값을 [0:1]사이의 값으로 정규화 --> 출력 값의 합은 1\n",
    "* 지수함수(exponential)를 사용하여 연산시 overflow 문제가 발생 가능 --> 입력 값중 최대값을 더해줘서 지수함수 연산을 하여 문제 해결\n",
    "![SoftMax](https://docs.google.com/uc?export=download&id=1ZHvjiZ4FEJr08rKiWebjiqpoSmoqJEcF)\n"
   ]
  },
  {
   "cell_type": "code",
   "execution_count": 7,
   "metadata": {
    "colab": {},
    "colab_type": "code",
    "id": "YoX8OOO8TXX3"
   },
   "outputs": [],
   "source": [
    "import numpy as np\n",
    "import math\n"
   ]
  },
  {
   "cell_type": "code",
   "execution_count": 8,
   "metadata": {
    "colab": {},
    "colab_type": "code",
    "id": "s3XtCGFRbFmJ"
   },
   "outputs": [],
   "source": [
    "def SoftMax(arr):\n",
    "    max_value = np.max(arr)\n",
    "    exp_arr = np.exp(arr - max_value)\n",
    "    sum_arr = np.sum(exp_arr)\n",
    "    return exp_arr / sum_arr\n",
    "\n"
   ]
  },
  {
   "cell_type": "code",
   "execution_count": 9,
   "metadata": {
    "colab": {},
    "colab_type": "code",
    "id": "xxRnBpFDX_XW"
   },
   "outputs": [],
   "source": [
    "def SoftMaxUsingList(arr):\n",
    "    max_value = max(arr)\n",
    "    exp_arr = [math.exp(i - max_value) for i in arr]\n",
    "    sum_arr = sum(exp_arr)\n",
    "    return [(i/sum_arr) for i in exp_arr]\n",
    "\n"
   ]
  },
  {
   "cell_type": "code",
   "execution_count": 12,
   "metadata": {
    "colab": {
     "base_uri": "https://localhost:8080/",
     "height": 449
    },
    "colab_type": "code",
    "id": "Ynx3bpLzYZY7",
    "outputId": "24838d6a-a953-44da-e460-ff38b9acc42c"
   },
   "outputs": [
    {
     "name": "stdout",
     "output_type": "stream",
     "text": [
      "\n",
      "\n",
      "=========================== SoftMax Using List ==================================\n",
      "0.006838295358994649\n",
      "0.007557485159972561\n",
      "0.008352312812589954\n",
      "0.00923073321914504\n",
      "0.006838295358994649\n",
      "0.015218906202562697\n",
      "0.008352312812589954\n",
      "0.012460186536247322\n",
      "0.006838295358994649\n",
      "0.9183131771799086\n",
      "=========================== SoftMax Using Numpy ==================================\n",
      "0.006838295358994649\n",
      "0.007557485159972561\n",
      "0.008352312812589954\n",
      "0.00923073321914504\n",
      "0.006838295358994649\n",
      "0.015218906202562697\n",
      "0.008352312812589954\n",
      "0.012460186536247322\n",
      "0.006838295358994649\n",
      "0.9183131771799086\n"
     ]
    }
   ],
   "source": [
    "# output = [1.22, 1.67, 3.45, 5.23, 2.11, 3.34, 2.33, 0.55, 4.44, 4.1]\n",
    "output = [0.1, 0.2, 0.3, 0.4, 0.1, 0.9, 0.3, 0.7, 0.1, 5.0]\n",
    "\n",
    "output_from_softmax_using_list = SoftMaxUsingList(output)\n",
    "print(\"\\n\\n=========================== SoftMax Using List ==================================\")\n",
    "print(\"\\n\".join([str(x) for x in output_from_softmax_using_list]))\n",
    "\n",
    "output_from_softmax = SoftMax(np.array(output))\n",
    "print(\"=========================== SoftMax Using Numpy ==================================\")\n",
    "print(\"\\n\".join([str(x) for x in output_from_softmax]))\n"
   ]
  },
  {
   "cell_type": "code",
   "execution_count": null,
   "metadata": {
    "colab": {},
    "colab_type": "code",
    "id": "A_uXqp13Y_23"
   },
   "outputs": [],
   "source": []
  },
  {
   "cell_type": "code",
   "execution_count": null,
   "metadata": {},
   "outputs": [],
   "source": []
  }
 ],
 "metadata": {
  "accelerator": "GPU",
  "colab": {
   "collapsed_sections": [],
   "include_colab_link": true,
   "name": "soft_max.ipynb",
   "provenance": []
  },
  "kernelspec": {
   "display_name": "Python 3",
   "language": "python",
   "name": "python3"
  },
  "language_info": {
   "codemirror_mode": {
    "name": "ipython",
    "version": 3
   },
   "file_extension": ".py",
   "mimetype": "text/x-python",
   "name": "python",
   "nbconvert_exporter": "python",
   "pygments_lexer": "ipython3",
   "version": "3.7.4"
  }
 },
 "nbformat": 4,
 "nbformat_minor": 1
}
