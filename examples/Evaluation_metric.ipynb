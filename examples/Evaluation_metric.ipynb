{
 "cells": [
  {
   "cell_type": "markdown",
   "metadata": {},
   "source": [
    "# Object Detection Evaluation Metric Example"
   ]
  },
  {
   "cell_type": "code",
   "execution_count": 10,
   "metadata": {
    "ExecuteTime": {
     "end_time": "2020-01-23T01:51:22.933421Z",
     "start_time": "2020-01-23T01:51:22.920207Z"
    }
   },
   "outputs": [],
   "source": [
    "import os\n",
    "import matplotlib.pyplot as plt\n",
    "import numpy as np\n",
    "import pandas as pd\n",
    "\n",
    "from IPython.display import display\n",
    "\n",
    "%matplotlib inline\n",
    "\n",
    "ROOT_DIR = os.path.abspath('../')"
   ]
  },
  {
   "cell_type": "markdown",
   "metadata": {},
   "source": [
    "## Sample Data Load\n",
    "* Samples Follows\n",
    "\n",
    "|| Sample-1 | Sample-2 | Sample-3 |\n",
    "| :---: | :---: | :---: | :---: |\n",
    "|Num of Object| 19 | 15 | 5 |\n",
    "|Results| [![sample-1](../images/eval_metric_sample_1.png)](../images/eval_metric_sample_1.png) | [![sample-1](../images/eval_metric_sample_2.png)](../images/eval_metric_sample_2.png) | [![sample-3](../images/eval_metric_sample_3.png)](../images/eval_metric_sample_3.png) |"
   ]
  },
  {
   "cell_type": "code",
   "execution_count": 28,
   "metadata": {
    "ExecuteTime": {
     "end_time": "2020-01-23T01:57:04.518598Z",
     "start_time": "2020-01-23T01:57:04.503466Z"
    }
   },
   "outputs": [],
   "source": [
    "# Load Sample Evaluation Data\n",
    "data_path = os.path.join(ROOT_DIR, 'files/evaluation_metric_sample_1.csv')\n",
    "data = pd.read_csv(data_path)\n",
    "# display(pd.DataFrame(data))\n",
    "\n",
    "num_of_objects = [19, 15, 5, 10]\n",
    "\n",
    "RESULTS = np.array(data)\n",
    "NUM_OF_OBJECT = num_of_objects[int(os.path.splitext(os.path.basename(data_path))[0].split('_')[-1]) - 1]\n"
   ]
  },
  {
   "cell_type": "code",
   "execution_count": 29,
   "metadata": {
    "ExecuteTime": {
     "end_time": "2020-01-23T01:57:04.691323Z",
     "start_time": "2020-01-23T01:57:04.683987Z"
    }
   },
   "outputs": [],
   "source": [
    "def DisplayPrecisionAndRecall(x, y, title=''):\n",
    "    plt.plot(x, y, linewidth='1.0', linestyle=\"-\")\n",
    "    plt.grid(alpha=.4,linestyle='--')\n",
    "    plt.xlim(min(x), max(x))\n",
    "    plt.ylim(0.0,1.1)\n",
    "    plt.xlabel(\"Recall\")\n",
    "    plt.ylabel(\"Precision\")\n",
    "    plt.title(title)"
   ]
  },
  {
   "cell_type": "code",
   "execution_count": 32,
   "metadata": {
    "ExecuteTime": {
     "end_time": "2020-01-23T01:57:08.040683Z",
     "start_time": "2020-01-23T01:57:07.825399Z"
    }
   },
   "outputs": [
    {
     "data": {
      "text/html": [
       "<div>\n",
       "<style scoped>\n",
       "    .dataframe tbody tr th:only-of-type {\n",
       "        vertical-align: middle;\n",
       "    }\n",
       "\n",
       "    .dataframe tbody tr th {\n",
       "        vertical-align: top;\n",
       "    }\n",
       "\n",
       "    .dataframe thead th {\n",
       "        text-align: right;\n",
       "    }\n",
       "</style>\n",
       "<table border=\"1\" class=\"dataframe\">\n",
       "  <thead>\n",
       "    <tr style=\"text-align: right;\">\n",
       "      <th></th>\n",
       "      <th>recall</th>\n",
       "      <th>precision</th>\n",
       "    </tr>\n",
       "  </thead>\n",
       "  <tbody>\n",
       "    <tr>\n",
       "      <td>0</td>\n",
       "      <td>0.052632</td>\n",
       "      <td>1.000000</td>\n",
       "    </tr>\n",
       "    <tr>\n",
       "      <td>1</td>\n",
       "      <td>0.105263</td>\n",
       "      <td>1.000000</td>\n",
       "    </tr>\n",
       "    <tr>\n",
       "      <td>2</td>\n",
       "      <td>0.105263</td>\n",
       "      <td>0.666667</td>\n",
       "    </tr>\n",
       "    <tr>\n",
       "      <td>3</td>\n",
       "      <td>0.105263</td>\n",
       "      <td>0.500000</td>\n",
       "    </tr>\n",
       "    <tr>\n",
       "      <td>4</td>\n",
       "      <td>0.105263</td>\n",
       "      <td>0.400000</td>\n",
       "    </tr>\n",
       "    <tr>\n",
       "      <td>5</td>\n",
       "      <td>0.157895</td>\n",
       "      <td>0.500000</td>\n",
       "    </tr>\n",
       "    <tr>\n",
       "      <td>6</td>\n",
       "      <td>0.210526</td>\n",
       "      <td>0.571429</td>\n",
       "    </tr>\n",
       "    <tr>\n",
       "      <td>7</td>\n",
       "      <td>0.210526</td>\n",
       "      <td>0.500000</td>\n",
       "    </tr>\n",
       "    <tr>\n",
       "      <td>8</td>\n",
       "      <td>0.263158</td>\n",
       "      <td>0.555556</td>\n",
       "    </tr>\n",
       "    <tr>\n",
       "      <td>9</td>\n",
       "      <td>0.263158</td>\n",
       "      <td>0.500000</td>\n",
       "    </tr>\n",
       "    <tr>\n",
       "      <td>10</td>\n",
       "      <td>0.315789</td>\n",
       "      <td>0.545455</td>\n",
       "    </tr>\n",
       "    <tr>\n",
       "      <td>11</td>\n",
       "      <td>0.315789</td>\n",
       "      <td>0.500000</td>\n",
       "    </tr>\n",
       "    <tr>\n",
       "      <td>12</td>\n",
       "      <td>0.368421</td>\n",
       "      <td>0.538462</td>\n",
       "    </tr>\n",
       "    <tr>\n",
       "      <td>13</td>\n",
       "      <td>0.421053</td>\n",
       "      <td>0.571429</td>\n",
       "    </tr>\n",
       "    <tr>\n",
       "      <td>14</td>\n",
       "      <td>0.421053</td>\n",
       "      <td>0.533333</td>\n",
       "    </tr>\n",
       "    <tr>\n",
       "      <td>15</td>\n",
       "      <td>0.473684</td>\n",
       "      <td>0.562500</td>\n",
       "    </tr>\n",
       "    <tr>\n",
       "      <td>16</td>\n",
       "      <td>0.526316</td>\n",
       "      <td>0.588235</td>\n",
       "    </tr>\n",
       "  </tbody>\n",
       "</table>\n",
       "</div>"
      ],
      "text/plain": [
       "      recall  precision\n",
       "0   0.052632   1.000000\n",
       "1   0.105263   1.000000\n",
       "2   0.105263   0.666667\n",
       "3   0.105263   0.500000\n",
       "4   0.105263   0.400000\n",
       "5   0.157895   0.500000\n",
       "6   0.210526   0.571429\n",
       "7   0.210526   0.500000\n",
       "8   0.263158   0.555556\n",
       "9   0.263158   0.500000\n",
       "10  0.315789   0.545455\n",
       "11  0.315789   0.500000\n",
       "12  0.368421   0.538462\n",
       "13  0.421053   0.571429\n",
       "14  0.421053   0.533333\n",
       "15  0.473684   0.562500\n",
       "16  0.526316   0.588235"
      ]
     },
     "metadata": {},
     "output_type": "display_data"
    },
    {
     "data": {
      "image/png": "[encoded data removed]",
      "text/plain": [
       "<Figure size 432x288 with 1 Axes>"
      ]
     },
     "metadata": {
      "needs_background": "light"
     },
     "output_type": "display_data"
    }
   ],
   "source": [
    "# Compute precision & recall\n",
    "acc_tp = 0\n",
    "acc_fp = 0\n",
    "\n",
    "prec = []\n",
    "rec = []\n",
    "\n",
    "result_copy = RESULTS.copy()\n",
    "while len(result_copy) > 0:\n",
    "    idx = np.argmax(result_copy[:, 2])\n",
    "    if result_copy[idx, 3] == 'TP':\n",
    "        acc_tp += 1\n",
    "    elif result_copy[idx, 3] == 'FP':\n",
    "        acc_fp += 1\n",
    "\n",
    "    result_copy = np.delete(result_copy, idx, axis = 0)\n",
    "    prec.append(acc_tp / (acc_tp + acc_fp))\n",
    "    rec.append(acc_tp / NUM_OF_OBJECT)\n",
    "    \n",
    "dataframe = pd.DataFrame({'recall' : rec, 'precision': prec})\n",
    "display(pd.DataFrame(dataframe))\n",
    "\n",
    "DisplayPrecisionAndRecall(rec, prec, 'Standard PR Curve @0.5')"
   ]
  },
  {
   "cell_type": "markdown",
   "metadata": {},
   "source": [
    "## Compute AP Using 11-point interpolation\n",
    "![11-point-ap](../images/equation/11-point-ap.png)\n",
    "![11-point-interp](../images/equation/11-point_interp.png)"
   ]
  },
  {
   "cell_type": "code",
   "execution_count": 33,
   "metadata": {
    "ExecuteTime": {
     "end_time": "2020-01-23T01:57:20.097386Z",
     "start_time": "2020-01-23T01:57:19.879280Z"
    }
   },
   "outputs": [
    {
     "name": "stdout",
     "output_type": "stream",
     "text": [
      "11-point interpolation AP :: 39.57%\n"
     ]
    },
    {
     "data": {
      "text/html": [
       "<div>\n",
       "<style scoped>\n",
       "    .dataframe tbody tr th:only-of-type {\n",
       "        vertical-align: middle;\n",
       "    }\n",
       "\n",
       "    .dataframe tbody tr th {\n",
       "        vertical-align: top;\n",
       "    }\n",
       "\n",
       "    .dataframe thead th {\n",
       "        text-align: right;\n",
       "    }\n",
       "</style>\n",
       "<table border=\"1\" class=\"dataframe\">\n",
       "  <thead>\n",
       "    <tr style=\"text-align: right;\">\n",
       "      <th></th>\n",
       "      <th>recall</th>\n",
       "      <th>precision</th>\n",
       "    </tr>\n",
       "  </thead>\n",
       "  <tbody>\n",
       "    <tr>\n",
       "      <td>0</td>\n",
       "      <td>0.0</td>\n",
       "      <td>1.000000</td>\n",
       "    </tr>\n",
       "    <tr>\n",
       "      <td>1</td>\n",
       "      <td>0.1</td>\n",
       "      <td>1.000000</td>\n",
       "    </tr>\n",
       "    <tr>\n",
       "      <td>2</td>\n",
       "      <td>0.2</td>\n",
       "      <td>0.588235</td>\n",
       "    </tr>\n",
       "    <tr>\n",
       "      <td>3</td>\n",
       "      <td>0.3</td>\n",
       "      <td>0.588235</td>\n",
       "    </tr>\n",
       "    <tr>\n",
       "      <td>4</td>\n",
       "      <td>0.4</td>\n",
       "      <td>0.588235</td>\n",
       "    </tr>\n",
       "    <tr>\n",
       "      <td>5</td>\n",
       "      <td>0.5</td>\n",
       "      <td>0.588235</td>\n",
       "    </tr>\n",
       "    <tr>\n",
       "      <td>6</td>\n",
       "      <td>0.6</td>\n",
       "      <td>0.000000</td>\n",
       "    </tr>\n",
       "    <tr>\n",
       "      <td>7</td>\n",
       "      <td>0.7</td>\n",
       "      <td>0.000000</td>\n",
       "    </tr>\n",
       "    <tr>\n",
       "      <td>8</td>\n",
       "      <td>0.8</td>\n",
       "      <td>0.000000</td>\n",
       "    </tr>\n",
       "    <tr>\n",
       "      <td>9</td>\n",
       "      <td>0.9</td>\n",
       "      <td>0.000000</td>\n",
       "    </tr>\n",
       "    <tr>\n",
       "      <td>10</td>\n",
       "      <td>1.0</td>\n",
       "      <td>0.000000</td>\n",
       "    </tr>\n",
       "  </tbody>\n",
       "</table>\n",
       "</div>"
      ],
      "text/plain": [
       "    recall  precision\n",
       "0      0.0   1.000000\n",
       "1      0.1   1.000000\n",
       "2      0.2   0.588235\n",
       "3      0.3   0.588235\n",
       "4      0.4   0.588235\n",
       "5      0.5   0.588235\n",
       "6      0.6   0.000000\n",
       "7      0.7   0.000000\n",
       "8      0.8   0.000000\n",
       "9      0.9   0.000000\n",
       "10     1.0   0.000000"
      ]
     },
     "metadata": {},
     "output_type": "display_data"
    },
    {
     "data": {
      "image/png": "[encoded data removed]",
      "text/plain": [
       "<Figure size 432x288 with 1 Axes>"
      ]
     },
     "metadata": {
      "needs_background": "light"
     },
     "output_type": "display_data"
    }
   ],
   "source": [
    "# Compute AP using 11-point interpolation\n",
    "eleven_prec = np.array([])\n",
    "eleven_rec = np.arange(0, 1.1, 0.1)\n",
    "group = np.stack([prec, rec], axis=1)\n",
    "\n",
    "for ele in eleven_rec:\n",
    "    samples = np.where(group[:, 1] >= ele, group[:,0], 0)\n",
    "    eleven_prec = np.append(eleven_prec, np.max(samples))\n",
    "\n",
    "AP = np.mean(eleven_prec)\n",
    "print('11-point interpolation AP :: {:0.2f}%'.format(AP * 100))\n",
    "\n",
    "DisplayPrecisionAndRecall(eleven_rec, eleven_prec, '11-Point Interpolation PR Curve @0.5')\n",
    "\n",
    "dataframe = pd.DataFrame({'recall' : eleven_rec, 'precision': eleven_prec})\n",
    "display(pd.DataFrame(dataframe))"
   ]
  },
  {
   "cell_type": "markdown",
   "metadata": {},
   "source": [
    "## Compute AP Using Every-point interpolation\n",
    "![every-point-ap](../images/equation/every_point_ap.png)\n",
    "![every-point-interp](../images/equation/every_point_interp.png)"
   ]
  },
  {
   "cell_type": "code",
   "execution_count": 34,
   "metadata": {
    "ExecuteTime": {
     "end_time": "2020-01-23T01:57:37.426783Z",
     "start_time": "2020-01-23T01:57:37.205476Z"
    }
   },
   "outputs": [
    {
     "name": "stdout",
     "output_type": "stream",
     "text": [
      "every-point interpolation AP :: 35.29%\n"
     ]
    },
    {
     "data": {
      "text/html": [
       "<div>\n",
       "<style scoped>\n",
       "    .dataframe tbody tr th:only-of-type {\n",
       "        vertical-align: middle;\n",
       "    }\n",
       "\n",
       "    .dataframe tbody tr th {\n",
       "        vertical-align: top;\n",
       "    }\n",
       "\n",
       "    .dataframe thead th {\n",
       "        text-align: right;\n",
       "    }\n",
       "</style>\n",
       "<table border=\"1\" class=\"dataframe\">\n",
       "  <thead>\n",
       "    <tr style=\"text-align: right;\">\n",
       "      <th></th>\n",
       "      <th>recall</th>\n",
       "      <th>precision</th>\n",
       "    </tr>\n",
       "  </thead>\n",
       "  <tbody>\n",
       "    <tr>\n",
       "      <td>0</td>\n",
       "      <td>0.052632</td>\n",
       "      <td>1.000000</td>\n",
       "    </tr>\n",
       "    <tr>\n",
       "      <td>1</td>\n",
       "      <td>0.105263</td>\n",
       "      <td>1.000000</td>\n",
       "    </tr>\n",
       "    <tr>\n",
       "      <td>2</td>\n",
       "      <td>0.157895</td>\n",
       "      <td>0.588235</td>\n",
       "    </tr>\n",
       "    <tr>\n",
       "      <td>3</td>\n",
       "      <td>0.210526</td>\n",
       "      <td>0.588235</td>\n",
       "    </tr>\n",
       "    <tr>\n",
       "      <td>4</td>\n",
       "      <td>0.263158</td>\n",
       "      <td>0.588235</td>\n",
       "    </tr>\n",
       "    <tr>\n",
       "      <td>5</td>\n",
       "      <td>0.315789</td>\n",
       "      <td>0.588235</td>\n",
       "    </tr>\n",
       "    <tr>\n",
       "      <td>6</td>\n",
       "      <td>0.368421</td>\n",
       "      <td>0.588235</td>\n",
       "    </tr>\n",
       "    <tr>\n",
       "      <td>7</td>\n",
       "      <td>0.421053</td>\n",
       "      <td>0.588235</td>\n",
       "    </tr>\n",
       "    <tr>\n",
       "      <td>8</td>\n",
       "      <td>0.473684</td>\n",
       "      <td>0.588235</td>\n",
       "    </tr>\n",
       "    <tr>\n",
       "      <td>9</td>\n",
       "      <td>0.526316</td>\n",
       "      <td>0.588235</td>\n",
       "    </tr>\n",
       "  </tbody>\n",
       "</table>\n",
       "</div>"
      ],
      "text/plain": [
       "     recall  precision\n",
       "0  0.052632   1.000000\n",
       "1  0.105263   1.000000\n",
       "2  0.157895   0.588235\n",
       "3  0.210526   0.588235\n",
       "4  0.263158   0.588235\n",
       "5  0.315789   0.588235\n",
       "6  0.368421   0.588235\n",
       "7  0.421053   0.588235\n",
       "8  0.473684   0.588235\n",
       "9  0.526316   0.588235"
      ]
     },
     "metadata": {},
     "output_type": "display_data"
    },
    {
     "data": {
      "image/png": "[encoded data removed]",
      "text/plain": [
       "<Figure size 432x288 with 1 Axes>"
      ]
     },
     "metadata": {
      "needs_background": "light"
     },
     "output_type": "display_data"
    }
   ],
   "source": [
    "# Compute AP using every-point interpolation(ACU, Area Under Curve AUC)\n",
    "every_prec = np.array([])\n",
    "every_rec = np.unique(rec)\n",
    "group = np.stack([prec, rec], axis=1)\n",
    "for ele in every_rec:\n",
    "    samples = np.where(group[:, 1] >= ele, group[:,0], 0)\n",
    "    every_prec = np.append(every_prec, np.max(samples))\n",
    "\n",
    "AP = 0\n",
    "every_rec = np.insert(every_rec, 0, 0.0)\n",
    "for i in range(1, len(every_rec)):\n",
    "    AP += (every_rec[i] - every_rec[i - 1]) * every_prec[i - 1]\n",
    "every_rec = np.delete(every_rec, 0)\n",
    "\n",
    "print('every-point interpolation AP :: {:0.2f}%'.format(AP * 100))\n",
    "DisplayPrecisionAndRecall(every_rec, every_prec, 'Every Point PR Curve @0.5')\n",
    "\n",
    "dataframe = pd.DataFrame({'recall' : every_rec, 'precision': every_prec})\n",
    "display(pd.DataFrame(dataframe))"
   ]
  },
  {
   "cell_type": "markdown",
   "metadata": {},
   "source": [
    "### Reference\n",
    "* <https://medium.com/@jonathan_hui/map-mean-average-precision-for-object-detection-45c121a31173>\n",
    "* <https://github.com/rafaelpadilla/Object-Detection-Metrics>"
   ]
  },
  {
   "cell_type": "code",
   "execution_count": null,
   "metadata": {},
   "outputs": [],
   "source": []
  },
  {
   "cell_type": "code",
   "execution_count": null,
   "metadata": {},
   "outputs": [],
   "source": []
  },
  {
   "cell_type": "code",
   "execution_count": null,
   "metadata": {},
   "outputs": [],
   "source": []
  }
 ],
 "metadata": {
  "kernelspec": {
   "display_name": "tensorflow_1.14.0_env",
   "language": "python",
   "name": "tensorflow_1.14.0_env"
  },
  "language_info": {
   "codemirror_mode": {
    "name": "ipython",
    "version": 3
   },
   "file_extension": ".py",
   "mimetype": "text/x-python",
   "name": "python",
   "nbconvert_exporter": "python",
   "pygments_lexer": "ipython3",
   "version": "3.7.5"
  },
  "varInspector": {
   "cols": {
    "lenName": 16,
    "lenType": 16,
    "lenVar": 40
   },
   "kernels_config": {
    "python": {
     "delete_cmd_postfix": "",
     "delete_cmd_prefix": "del ",
     "library": "var_list.py",
     "varRefreshCmd": "print(var_dic_list())"
    },
    "r": {
     "delete_cmd_postfix": ") ",
     "delete_cmd_prefix": "rm(",
     "library": "var_list.r",
     "varRefreshCmd": "cat(var_dic_list()) "
    }
   },
   "types_to_exclude": [
    "module",
    "function",
    "builtin_function_or_method",
    "instance",
    "_Feature"
   ],
   "window_display": false
  }
 },
 "nbformat": 4,
 "nbformat_minor": 2
}
