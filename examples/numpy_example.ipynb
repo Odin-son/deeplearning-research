{
 "cells": [
  {
   "cell_type": "markdown",
   "metadata": {
    "colab_type": "text",
    "id": "view-in-github"
   },
   "source": [
    "<a href=\"https://colab.research.google.com/github/Raidin/HowDoDeepLearning/blob/remind_basic_skill/Numpy_Example.ipynb\" target=\"_parent\"><img src=\"https://colab.research.google.com/assets/colab-badge.svg\" alt=\"Open In Colab\"/></a>"
   ]
  },
  {
   "cell_type": "code",
   "execution_count": 0,
   "metadata": {
    "colab": {},
    "colab_type": "code",
    "id": "h6Bp8uOJ7q0H"
   },
   "outputs": [],
   "source": [
    "import numpy as np\n"
   ]
  },
  {
   "cell_type": "code",
   "execution_count": 0,
   "metadata": {
    "colab": {},
    "colab_type": "code",
    "id": "gyP-Wl4WvEhd"
   },
   "outputs": [],
   "source": [
    "'''\n",
    "Initialize\n",
    "'''\n",
    "# List를 사용한 방법\n",
    "# 1D\n",
    "tmp_arr = [0, 1, 2, 3, 4, 5, 6, 7, 8, 9]\n",
    "arr = np.array(tmp_arr)\n",
    "print(arr)\n",
    "\n",
    "tmp_arr = [[0,1,2,3,4],[5,6,7,8,9]]\n",
    "arr = np.array(tmp_arr)\n",
    "print(arr)\n",
    "\n",
    "# Numpy에서 제공하는 함수\n",
    "# zeros() : 0 으로 초기화된 array\n",
    "arr = np.zeros(10)\n",
    "print(arr)\n",
    "\n",
    "arr = np.zeros((2, 5))\n",
    "print(arr)\n",
    "\n",
    "arr= np.zeros_like(tmp_arr, dtype=int)\n",
    "print(arr)\n",
    "\n",
    "# ones() : 1 으로 초기화된 array\n",
    "arr = np.ones(10)\n",
    "print(arr)\n",
    "\n",
    "arr = np.ones((2, 5))\n",
    "print(arr)\n",
    "\n",
    "# full() : 사용자가 지정한 값으로 초기화된 array\n",
    "val = 5\n",
    "arr = np.full(10, val)\n",
    "print(arr)\n",
    "\n",
    "arr = np.full((2,5), val)\n",
    "print(arr)\n",
    "\n",
    "arr = np.empty_like(tmp_arr, dtype=int)\n",
    "print(arr)\n",
    "\n",
    "# eye() : 단위행렬 생성\n",
    "arr = np.eye(5)\n",
    "print(arr)\n",
    "\n",
    "arr = np.eye(5, 5, k=1, dtype=int)\n",
    "print(arr)\n",
    "\n",
    "arr = np.identity(5)\n",
    "print(arr)\n",
    "\n",
    "# arange()\n",
    "arr = np.arange(0, 10, 5)\n",
    "print(arr)\n",
    "\n",
    "arr = np.arange(1, 10, 5)\n",
    "print(arr)\n",
    "\n",
    "arr = np.arange(0, 10, 1)\n",
    "print(arr)\n",
    "\n",
    "# linspace() --> linear\n",
    "arr = np.linspace(0, 10, 5, True, True)\n",
    "print(arr)\n",
    "\n",
    "arr = np.linspace(1, 10, 5, True, False)\n",
    "print(arr)\n",
    "\n",
    "arr = np.linspace(0, 10, 5, False, False)\n",
    "print(arr)\n",
    "\n",
    "# logspace()\n",
    "arr = np.logspace(0, 10, 5, True, 10.0)\n",
    "print(arr)\n",
    "\n",
    "arr = np.logspace(1, 10, 5, True, 5.0)\n",
    "print(arr)\n",
    "\n",
    "arr = np.logspace(0, 10, 5, False, 1.0)\n",
    "print(arr)\n",
    "\n",
    "# reshpe() : 행렬의 차원수를 변경\n",
    "arr = np.ones(10)\n",
    "arr = arr.reshape(2,5)\n",
    "print(arr)\n"
   ]
  },
  {
   "cell_type": "code",
   "execution_count": 0,
   "metadata": {
    "colab": {},
    "colab_type": "code",
    "id": "AtUjBgpeobfe"
   },
   "outputs": [],
   "source": [
    "'''\n",
    "Arithmetic Operation\n",
    "'''\n",
    "arr_a = np.array([1, 2, 3, 4, 5, 6])\n",
    "arr_b = np.array([6, 5, 4, 3, 2, 1])\n",
    "\n",
    "# Addtion\n",
    "add = arr_a + arr_b\n",
    "add_method = np.add(arr_a, arr_b)\n",
    "print(add, add_method)\n",
    "\n",
    "# Subtract\n",
    "sub = arr_a - arr_b\n",
    "sub_method = np.subtract(arr_a, arr_b)\n",
    "print(sub, sub_method)\n",
    "\n",
    "# Multiply\n",
    "mul = arr_a * arr_b\n",
    "mul_method = np.multiply(arr_a, arr_b)\n",
    "print(mul, mul_method)\n",
    "\n",
    "# Divide\n",
    "div = arr_a / arr_b\n",
    "div_method = np.divide(arr_a, arr_b)\n",
    "print(div, div_method)\n",
    "\n",
    "# Matrix Product\n",
    "arr_a = np.array(range(0,6,1)).reshape(3,2)\n",
    "arr_b = np.array(range(2,8,1)).reshape(3,2)\n",
    "dot = np.dot(arr_a, arr_b.T) # 3 x 2 dot 2 x 3\n",
    "print(dot)\n",
    "\n",
    "# Search Min/Max Value\n",
    "max_val = np.max(arr_a)\n",
    "min_val = np.min(arr_a)\n",
    "print(max_val, min_val)"
   ]
  },
  {
   "cell_type": "code",
   "execution_count": 50,
   "metadata": {
    "colab": {
     "base_uri": "https://localhost:8080/",
     "height": 359
    },
    "colab_type": "code",
    "id": "Nam4B0qrva2t",
    "outputId": "2300fa57-c663-4532-980c-e0f9411495a2"
   },
   "outputs": [
    {
     "name": "stdout",
     "output_type": "stream",
     "text": [
      "[8 4 6 2 7]\n",
      "[[0.88514856 0.26354891 0.96610934]\n",
      " [0.6176792  0.15060253 0.25199137]\n",
      " [0.28181813 0.8640667  0.36500379]]\n",
      "[[-1.23788204 -0.35068395 -0.28137599]\n",
      " [-0.88049182  1.55142052 -0.22116517]\n",
      " [ 0.26783721  0.8837513  -1.26581654]]\n",
      "[[3 2 8]\n",
      " [4 1 9]\n",
      " [5 5 7]]\n",
      "[[7.67689373 8.09814389 6.27669686]\n",
      " [2.13993826 5.11503081 3.56684078]\n",
      " [5.56532423 4.59895113 2.97172784]]\n",
      "[[2.05001260e+00 5.44922864e-06 2.12300072e+02]\n",
      " [9.85570860e+04 5.03911329e-02 1.07358789e+11]\n",
      " [3.11022270e+02 1.37812558e+04 1.29506425e+06]]\n",
      "[[-18.07828065  19.89507972  -1.86022834]\n",
      " [ 24.43076488 -22.96287873  -9.44134798]\n",
      " [-13.85351943   5.47381061   1.69743012]]\n"
     ]
    }
   ],
   "source": [
    "'''\n",
    "Randomize\n",
    "'''\n",
    "np.random.seed(7777)\n",
    "\n",
    "# 배열에서 n개의 무작의 값을 선택해서 반환\n",
    "arr = np.arange(0,10)\n",
    "arr = np.random.choice(arr, 5, replace=False, p=[0, 0, 0.05, 0, 0.05, 0, 0.05, 0.05, 0.8, 0]) # replace : 중복반환 여부, p = 배열 각 인덱스별 선택될 확률\n",
    "print(arr)\n",
    "\n",
    "# 난수 발생\n",
    "arr = np.random.rand(3, 3)\n",
    "print(arr)\n",
    "arr = np.random.randn(3, 3) # Normal distribution\n",
    "print(arr)\n",
    "arr = np.random.randint(1, 10, (3, 3), dtype='int') # 1~10사이의 숫자를 무작위로 선택하여 3x3 배열 반환\n",
    "print(arr)\n",
    "arr = np.random.uniform(1, 10, (3, 3)) # 1~10 사이에서 균일한 분포의 3x3 배열 반환\n",
    "print(arr)\n",
    "arr = np.random.lognormal(1, 10, (3, 3)) # 1~10 사이에서 평균, 시그마를 대입한 로그정규분포의 3x3 배열 반환\n",
    "print(arr)\n",
    "arr = np.random.laplace(1, 10, (3, 3)) # 1~10 사이에서 에타와 나무다를 대입한 라플라스 분포의 무작위 배열\n",
    "print(arr)\n"
   ]
  },
  {
   "cell_type": "code",
   "execution_count": 63,
   "metadata": {
    "colab": {
     "base_uri": "https://localhost:8080/",
     "height": 431
    },
    "colab_type": "code",
    "id": "OYH4TTb9ymTy",
    "outputId": "2eaa0a77-5460-4dea-b7cf-c2e8631d4dfe"
   },
   "outputs": [
    {
     "name": "stdout",
     "output_type": "stream",
     "text": [
      "[[1 2 5 6]\n",
      " [3 4 7 8]]\n",
      "[[1 2]\n",
      " [3 4]\n",
      " [5 6]\n",
      " [7 8]]\n",
      "[[[1 2]\n",
      "  [3 4]]\n",
      "\n",
      " [[5 6]\n",
      "  [7 8]]]\n",
      "[[[1 2]\n",
      "  [5 6]]\n",
      "\n",
      " [[3 4]\n",
      "  [7 8]]]\n",
      "[[[1 5]\n",
      "  [2 6]]\n",
      "\n",
      " [[3 7]\n",
      "  [4 8]]]\n",
      "[[1 2 1 2]\n",
      " [3 4 3 4]]\n"
     ]
    }
   ],
   "source": [
    "'''\n",
    "Merge\n",
    "'''\n",
    "arr_a = np.array([[1, 2], [3, 4]])\n",
    "arr_b = np.array([[5, 6], [7, 8]])\n",
    "\n",
    "[[[1, 2],[5, 6]],[[3, 4],[7, 8]]]\n",
    "\n",
    "# horizontal(x) 방향으로 배열을 이어 붙임\n",
    "arr = np.hstack([arr_a, arr_b]) \n",
    "print(arr)\n",
    "# vertical(y) 방향으로 배열을 이어 붙임\n",
    "arr = np.vstack([arr_a, arr_b])\n",
    "print(arr)\n",
    "\n",
    "arr = np.stack([arr_a, arr_b], axis=0) # axis : x\n",
    "print(arr)\n",
    "arr = np.stack([arr_a, arr_b], axis=1) # axis : y\n",
    "print(arr) \n",
    "arr = np.stack([arr_a, arr_b], axis=2) # axis : diagonal\n",
    "arr = np.dstack([arr_a, arr_b])\n",
    "print(arr)\n",
    "\n",
    "arr = np.tile(arr_a, 2)\n",
    "print(arr)\n"
   ]
  },
  {
   "cell_type": "code",
   "execution_count": 0,
   "metadata": {
    "colab": {},
    "colab_type": "code",
    "id": "ez2kuo4yxOA5"
   },
   "outputs": [],
   "source": []
  }
 ],
 "metadata": {
  "colab": {
   "collapsed_sections": [],
   "include_colab_link": true,
   "name": "Numpy_Example.ipynb",
   "provenance": [],
   "version": "0.3.2"
  },
  "kernelspec": {
   "display_name": "Python 3",
   "language": "python",
   "name": "python3"
  },
  "language_info": {
   "codemirror_mode": {
    "name": "ipython",
    "version": 3
   },
   "file_extension": ".py",
   "mimetype": "text/x-python",
   "name": "python",
   "nbconvert_exporter": "python",
   "pygments_lexer": "ipython3",
   "version": "3.7.5"
  },
  "varInspector": {
   "cols": {
    "lenName": 16,
    "lenType": 16,
    "lenVar": 40
   },
   "kernels_config": {
    "python": {
     "delete_cmd_postfix": "",
     "delete_cmd_prefix": "del ",
     "library": "var_list.py",
     "varRefreshCmd": "print(var_dic_list())"
    },
    "r": {
     "delete_cmd_postfix": ") ",
     "delete_cmd_prefix": "rm(",
     "library": "var_list.r",
     "varRefreshCmd": "cat(var_dic_list()) "
    }
   },
   "types_to_exclude": [
    "module",
    "function",
    "builtin_function_or_method",
    "instance",
    "_Feature"
   ],
   "window_display": false
  }
 },
 "nbformat": 4,
 "nbformat_minor": 1
}
