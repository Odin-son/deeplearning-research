{
 "cells": [
  {
   "cell_type": "code",
   "execution_count": 1,
   "metadata": {},
   "outputs": [],
   "source": [
    "import cv2\n",
    "import matplotlib.pyplot as plt\n",
    "import numpy as np\n",
    "import os\n",
    "import pandas as pd\n",
    "\n",
    "from PIL import Image"
   ]
  },
  {
   "cell_type": "code",
   "execution_count": 2,
   "metadata": {},
   "outputs": [],
   "source": [
    "ROOT_DIR = os.path.abspath('../')\n",
    "IMAGE_DIR = os.path.join(ROOT_DIR, 'images')"
   ]
  },
  {
   "cell_type": "code",
   "execution_count": 3,
   "metadata": {},
   "outputs": [],
   "source": [
    "red_img_path = os.path.join(IMAGE_DIR, 'red.png')\n",
    "green_img_path = os.path.join(IMAGE_DIR, 'green.png')\n",
    "blue_img_path = os.path.join(IMAGE_DIR, 'blue.png')"
   ]
  },
  {
   "cell_type": "markdown",
   "metadata": {},
   "source": [
    "# Using OpenCV"
   ]
  },
  {
   "cell_type": "code",
   "execution_count": 11,
   "metadata": {},
   "outputs": [],
   "source": [
    "# 0 : red, 1 : green, 2: blue\n",
    "img_mapping = {0 : 'red', 1 : 'green', 2 : 'blue'}\n",
    "img = []\n",
    "img.append(cv2.imread(red_img_path))\n",
    "img.append(cv2.imread(green_img_path))\n",
    "img.append(cv2.imread(blue_img_path))"
   ]
  },
  {
   "cell_type": "code",
   "execution_count": 16,
   "metadata": {},
   "outputs": [
    {
     "data": {
      "text/html": [
       "<div>\n",
       "<style scoped>\n",
       "    .dataframe tbody tr th:only-of-type {\n",
       "        vertical-align: middle;\n",
       "    }\n",
       "\n",
       "    .dataframe tbody tr th {\n",
       "        vertical-align: top;\n",
       "    }\n",
       "\n",
       "    .dataframe thead th {\n",
       "        text-align: right;\n",
       "    }\n",
       "</style>\n",
       "<table border=\"1\" class=\"dataframe\">\n",
       "  <thead>\n",
       "    <tr style=\"text-align: right;\">\n",
       "      <th></th>\n",
       "      <th>dim_0</th>\n",
       "      <th>dim_1</th>\n",
       "      <th>dim_2</th>\n",
       "    </tr>\n",
       "  </thead>\n",
       "  <tbody>\n",
       "    <tr>\n",
       "      <td>red_img</td>\n",
       "      <td>0</td>\n",
       "      <td>0</td>\n",
       "      <td>255</td>\n",
       "    </tr>\n",
       "    <tr>\n",
       "      <td>green_img</td>\n",
       "      <td>0</td>\n",
       "      <td>255</td>\n",
       "      <td>0</td>\n",
       "    </tr>\n",
       "    <tr>\n",
       "      <td>blue_img</td>\n",
       "      <td>255</td>\n",
       "      <td>0</td>\n",
       "      <td>0</td>\n",
       "    </tr>\n",
       "  </tbody>\n",
       "</table>\n",
       "</div>"
      ],
      "text/plain": [
       "           dim_0  dim_1  dim_2\n",
       "red_img        0      0    255\n",
       "green_img      0    255      0\n",
       "blue_img     255      0      0"
      ]
     },
     "execution_count": 16,
     "metadata": {},
     "output_type": "execute_result"
    },
    {
     "data": {
      "image/png": "[encoded data removed]",
      "text/plain": [
       "<Figure size 432x288 with 3 Axes>"
      ]
     },
     "metadata": {
      "needs_background": "light"
     },
     "output_type": "display_data"
    }
   ],
   "source": [
    "fig, ax = plt.subplots(1, 3)\n",
    "\n",
    "for i in range(3):\n",
    "    ax[i].imshow(cv2.cvtColor(img[i], cv2.COLOR_BGR2RGB))\n",
    "    ax[i].axis('off')\n",
    "    ax[i].set_title('{}'.format(img_mapping[i]))\n",
    "\n",
    "dim = []\n",
    "\n",
    "for i in range(3):\n",
    "    sub = []\n",
    "    for sub_img in img:\n",
    "        sub.append(sub_img[0,0,i])\n",
    "    dim.append(sub)\n",
    "    \n",
    "opencv_color_space = pd.DataFrame({'dim_0' : dim[0], 'dim_1': dim[1], 'dim_2': dim[2]}, \n",
    "                                  index=['red_img', 'green_img', 'blue_img'])\n",
    "opencv_color_space"
   ]
  },
  {
   "cell_type": "markdown",
   "metadata": {},
   "source": [
    "# Using Pillow"
   ]
  },
  {
   "cell_type": "code",
   "execution_count": 18,
   "metadata": {},
   "outputs": [],
   "source": [
    "img_mapping = {0 : 'red', 1 : 'green', 2 : 'blue'}\n",
    "img = []\n",
    "img.append(np.array(Image.open(red_img_path)))\n",
    "img.append(np.array(Image.open(green_img_path)))\n",
    "img.append(np.array(Image.open(blue_img_path)))"
   ]
  },
  {
   "cell_type": "code",
   "execution_count": 20,
   "metadata": {},
   "outputs": [
    {
     "data": {
      "text/html": [
       "<div>\n",
       "<style scoped>\n",
       "    .dataframe tbody tr th:only-of-type {\n",
       "        vertical-align: middle;\n",
       "    }\n",
       "\n",
       "    .dataframe tbody tr th {\n",
       "        vertical-align: top;\n",
       "    }\n",
       "\n",
       "    .dataframe thead th {\n",
       "        text-align: right;\n",
       "    }\n",
       "</style>\n",
       "<table border=\"1\" class=\"dataframe\">\n",
       "  <thead>\n",
       "    <tr style=\"text-align: right;\">\n",
       "      <th></th>\n",
       "      <th>dim_0</th>\n",
       "      <th>dim_1</th>\n",
       "      <th>dim_2</th>\n",
       "    </tr>\n",
       "  </thead>\n",
       "  <tbody>\n",
       "    <tr>\n",
       "      <td>red_img</td>\n",
       "      <td>255</td>\n",
       "      <td>0</td>\n",
       "      <td>0</td>\n",
       "    </tr>\n",
       "    <tr>\n",
       "      <td>green_img</td>\n",
       "      <td>0</td>\n",
       "      <td>255</td>\n",
       "      <td>0</td>\n",
       "    </tr>\n",
       "    <tr>\n",
       "      <td>blue_img</td>\n",
       "      <td>0</td>\n",
       "      <td>0</td>\n",
       "      <td>255</td>\n",
       "    </tr>\n",
       "  </tbody>\n",
       "</table>\n",
       "</div>"
      ],
      "text/plain": [
       "           dim_0  dim_1  dim_2\n",
       "red_img      255      0      0\n",
       "green_img      0    255      0\n",
       "blue_img       0      0    255"
      ]
     },
     "execution_count": 20,
     "metadata": {},
     "output_type": "execute_result"
    },
    {
     "data": {
      "image/png": "[encoded data removed]",
      "text/plain": [
       "<Figure size 432x288 with 3 Axes>"
      ]
     },
     "metadata": {
      "needs_background": "light"
     },
     "output_type": "display_data"
    }
   ],
   "source": [
    "fig, ax = plt.subplots(1, 3)\n",
    "\n",
    "for i in range(3):\n",
    "    ax[i].imshow(img[i])\n",
    "    ax[i].axis('off')\n",
    "    ax[i].set_title('{}'.format(img_mapping[i]))\n",
    "\n",
    "dim = []\n",
    "\n",
    "for i in range(3):\n",
    "    sub = []\n",
    "    for sub_img in img:\n",
    "        sub.append(sub_img[0,0,i])\n",
    "    dim.append(sub)\n",
    "    \n",
    "pillow_color_space = pd.DataFrame({'dim_0' : dim[0], 'dim_1': dim[1], 'dim_2': dim[2]}, \n",
    "                                  index=['red_img', 'green_img', 'blue_img'])\n",
    "pillow_color_space"
   ]
  },
  {
   "cell_type": "code",
   "execution_count": null,
   "metadata": {},
   "outputs": [],
   "source": []
  }
 ],
 "metadata": {
  "kernelspec": {
   "display_name": "Python 3",
   "language": "python",
   "name": "python3"
  },
  "language_info": {
   "codemirror_mode": {
    "name": "ipython",
    "version": 3
   },
   "file_extension": ".py",
   "mimetype": "text/x-python",
   "name": "python",
   "nbconvert_exporter": "python",
   "pygments_lexer": "ipython3",
   "version": "3.7.7"
  }
 },
 "nbformat": 4,
 "nbformat_minor": 2
}
