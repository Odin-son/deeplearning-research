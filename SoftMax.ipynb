{
  "nbformat": 4,
  "nbformat_minor": 0,
  "metadata": {
    "colab": {
      "name": "SoftMax.ipynb",
      "version": "0.3.2",
      "provenance": [],
      "collapsed_sections": [],
      "include_colab_link": true
    },
    "kernelspec": {
      "name": "python3",
      "display_name": "Python 3"
    },
    "accelerator": "GPU"
  },
  "cells": [
    {
      "cell_type": "markdown",
      "metadata": {
        "id": "view-in-github",
        "colab_type": "text"
      },
      "source": [
        "<a href=\"https://colab.research.google.com/github/Raidin/HowDoDeepLearning/blob/remind_basic_skill/SoftMax.ipynb\" target=\"_parent\"><img src=\"https://colab.research.google.com/assets/colab-badge.svg\" alt=\"Open In Colab\"/></a>"
      ]
    },
    {
      "cell_type": "code",
      "metadata": {
        "id": "YoX8OOO8TXX3",
        "colab_type": "code",
        "colab": {}
      },
      "source": [
        "import numpy as np\n",
        "import math\n"
      ],
      "execution_count": 0,
      "outputs": []
    },
    {
      "cell_type": "code",
      "metadata": {
        "id": "s3XtCGFRbFmJ",
        "colab_type": "code",
        "colab": {}
      },
      "source": [
        "def SoftMax(arr):\n",
        "    max_value = np.max(arr)\n",
        "    exp_arr = np.exp(arr - max_value)\n",
        "    sum_arr = np.sum(exp_arr)\n",
        "    return exp_arr / sum_arr\n",
        "\n"
      ],
      "execution_count": 0,
      "outputs": []
    },
    {
      "cell_type": "code",
      "metadata": {
        "id": "xxRnBpFDX_XW",
        "colab_type": "code",
        "colab": {}
      },
      "source": [
        "def SoftMaxUsingList(arr):\n",
        "    max_value = max(arr)\n",
        "    exp_arr = [math.exp(i - max_value) for i in arr]\n",
        "    sum_arr = sum(exp_arr)\n",
        "    return [(i/sum_arr) for i in exp_arr]\n",
        "\n"
      ],
      "execution_count": 0,
      "outputs": []
    },
    {
      "cell_type": "code",
      "metadata": {
        "id": "Ynx3bpLzYZY7",
        "colab_type": "code",
        "outputId": "24838d6a-a953-44da-e460-ff38b9acc42c",
        "colab": {
          "base_uri": "https://localhost:8080/",
          "height": 449
        }
      },
      "source": [
        "output = [1.22, 1.67, 3.45, 5.23, 2.11, 3.34, 2.33, 0.55, 4.44, 4.1]\n",
        "\n",
        "output_from_softmax_using_list = SoftMaxUsingList(output)\n",
        "print(\"\\n\\n=========================== SoftMax Using List ==================================\")\n",
        "print(\"\\n\".join([str(x) for x in output_from_softmax_using_list]))\n",
        "\n",
        "output_from_softmax = SoftMax(np.array(output))\n",
        "print(\"=========================== SoftMax Using Numpy ==================================\")\n",
        "print(\"\\n\".join([str(x) for x in output_from_softmax]))\n"
      ],
      "execution_count": 101,
      "outputs": [
        {
          "output_type": "stream",
          "text": [
            "\n",
            "\n",
            "=========================== SoftMax Using List ==================================\n",
            "0.00805348958332036\n",
            "0.012630385849239464\n",
            "0.07489637459739544\n",
            "0.4441247476355723\n",
            "0.019611291280697545\n",
            "0.06709472897430258\n",
            "0.02443717372164841\n",
            "0.004121039700899596\n",
            "0.20156370517049424\n",
            "0.14346706348643007\n",
            "=========================== SoftMax Using Numpy ==================================\n",
            "0.00805348958332036\n",
            "0.012630385849239464\n",
            "0.07489637459739544\n",
            "0.4441247476355723\n",
            "0.019611291280697545\n",
            "0.06709472897430258\n",
            "0.02443717372164841\n",
            "0.004121039700899596\n",
            "0.20156370517049424\n",
            "0.14346706348643007\n"
          ],
          "name": "stdout"
        }
      ]
    },
    {
      "cell_type": "code",
      "metadata": {
        "id": "A_uXqp13Y_23",
        "colab_type": "code",
        "colab": {}
      },
      "source": [
        ""
      ],
      "execution_count": 0,
      "outputs": []
    }
  ]
}